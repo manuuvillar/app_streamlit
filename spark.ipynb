{
 "cells": [
  {
   "cell_type": "code",
   "execution_count": 1,
   "metadata": {},
   "outputs": [],
   "source": [
    "import pandas as pd\n",
    "from pyspark.sql import SparkSession"
   ]
  },
  {
   "cell_type": "code",
   "execution_count": 2,
   "metadata": {},
   "outputs": [
    {
     "name": "stdout",
     "output_type": "stream",
     "text": [
      "Sessão Spark criada com sucesso!\n"
     ]
    }
   ],
   "source": [
    "from pyspark.sql import SparkSession\n",
    "\n",
    "# Criando a sessão Spark\n",
    "spark = SparkSession.builder \\\n",
    "    .appName(\"MinhaSessaoSpark\") \\\n",
    "    .config(\"spark.some.config.option\", \"config-value\") \\\n",
    "    .getOrCreate()\n",
    "\n",
    "# Verificando se a sessão foi criada com sucesso\n",
    "print(\"Sessão Spark criada com sucesso!\")\n"
   ]
  },
  {
   "cell_type": "code",
   "execution_count": 3,
   "metadata": {},
   "outputs": [],
   "source": [
    "candidato = spark.read.format(\"csv\").option(\"header\", \"true\").load(\"candidatos.csv\")\n",
    "colocado = spark.read.format(\"csv\").option(\"header\", \"true\").load(\"colocados.csv\")\n",
    "candidato_colocados=spark.read.format(\"csv\").option(\"header\", \"true\").load(\"candidatos_que_foram_colocados.csv\")\n"
   ]
  },
  {
   "cell_type": "code",
   "execution_count": 7,
   "metadata": {},
   "outputs": [
    {
     "name": "stdout",
     "output_type": "stream",
     "text": [
      "+--------------------+----------------+---------------+----------+----------+\n",
      "|     estabelecimento|total_candidatos|total_colocados|  latitude| longitude|\n",
      "+--------------------+----------------+---------------+----------+----------+\n",
      "|Escola Superior N...|             725|            157|   39.6945|  -8.13057|\n",
      "|Escola Superior d...|            1092|            311|40.2185907|-8.4092581|\n",
      "+--------------------+----------------+---------------+----------+----------+\n",
      "only showing top 2 rows\n",
      "\n"
     ]
    }
   ],
   "source": [
    "geografia=spark.read.format(\"csv\").option(\"header\", \"true\").load(\"geografia.csv\")\n",
    "geografia.show(2)"
   ]
  },
  {
   "cell_type": "code",
   "execution_count": 5,
   "metadata": {},
   "outputs": [
    {
     "name": "stdout",
     "output_type": "stream",
     "text": [
      "+---+----------------------+------------+------------------+----------+--------------------+-----+-----+-----+---+-------+--------------------+--------------------+---------+------------------+--------------+---------+\n",
      "|_c0|codigo_estabelecimento|codigo_curso|Nº Ordem (parcial)|        cc|                Nome| Nota|Opção|   PI|12º|10º/11º|     estabelecimento|              escola|    curso|regime_pos_laboral|regime_noturno|candidato|\n",
      "+---+----------------------+------------+------------------+----------+--------------------+-----+-----+-----+---+-------+--------------------+--------------------+---------+------------------+--------------+---------+\n",
      "|  0|                   602|        9003|                 1|151(...)15|MARTA DO VALE MAR...|188.7|    6|177.0|195|    195|Universidade de É...|Escola de Ciência...|Agronomia|                 0|             0|        1|\n",
      "|  1|                   602|        9003|                 2|156(...)35|FRANCISCO ISIDORO...|177.8|    1|181.0|176|    176|Universidade de É...|Escola de Ciência...|Agronomia|                 0|             0|        1|\n",
      "+---+----------------------+------------+------------------+----------+--------------------+-----+-----+-----+---+-------+--------------------+--------------------+---------+------------------+--------------+---------+\n",
      "only showing top 2 rows\n",
      "\n"
     ]
    }
   ],
   "source": [
    "candidato.show(2)"
   ]
  },
  {
   "cell_type": "code",
   "execution_count": 6,
   "metadata": {},
   "outputs": [
    {
     "name": "stdout",
     "output_type": "stream",
     "text": [
      "+---+----------------------+--------------------+--------------------+------------+-----------------+--------------------+----------+------------------+--------------+---------+\n",
      "|_c0|codigo_estabelecimento|     estabelecimento|              escola|codigo_curso|            curso|                Nome|        cc|regime_pos_laboral|regime_noturno|candidato|\n",
      "+---+----------------------+--------------------+--------------------+------------+-----------------+--------------------+----------+------------------+--------------+---------+\n",
      "|  0|                   140|Universidade dos ...|Faculdade de Ciên...|        9022|Ciências Agrárias|BERNARDO COUTO MATOS|150(...)35|                 0|             0|        0|\n",
      "|  1|                   140|Universidade dos ...|Faculdade de Ciên...|        9022|Ciências Agrárias| ISAC SILVA MENDONÇA|158(...)81|                 0|             0|        0|\n",
      "+---+----------------------+--------------------+--------------------+------------+-----------------+--------------------+----------+------------------+--------------+---------+\n",
      "only showing top 2 rows\n",
      "\n"
     ]
    }
   ],
   "source": [
    "colocado.show(2)"
   ]
  },
  {
   "cell_type": "code",
   "execution_count": 4,
   "metadata": {},
   "outputs": [
    {
     "name": "stdout",
     "output_type": "stream",
     "text": [
      "+----------------------+------------+------------------+----------+--------------------+-----+-----+-----+---+-------+--------------------+--------------------+---------+------------------+--------------+-----------+-------------+-----------+\n",
      "|codigo_estabelecimento|codigo_curso|Nº Ordem (parcial)|        cc|                Nome| Nota|Opção|   PI|12º|10º/11º|     estabelecimento|              escola|    curso|regime_pos_laboral|regime_noturno|candidato_x|  tipo_ensino|candidato_y|\n",
      "+----------------------+------------+------------------+----------+--------------------+-----+-----+-----+---+-------+--------------------+--------------------+---------+------------------+--------------+-----------+-------------+-----------+\n",
      "|                   602|        9003|                 2|156(...)35|FRANCISCO ISIDORO...|177.8|    1|181.0|176|    176|Universidade de É...|Escola de Ciência...|Agronomia|                 0|             0|          1|universitario|          0|\n",
      "|                   602|        9003|                11|307(...)84|JORGE DINIS DE JE...|154.9|    2|138.0|164|    164|Universidade de É...|Escola de Ciência...|Agronomia|                 0|             0|          1|universitario|          0|\n",
      "+----------------------+------------+------------------+----------+--------------------+-----+-----+-----+---+-------+--------------------+--------------------+---------+------------------+--------------+-----------+-------------+-----------+\n",
      "only showing top 2 rows\n",
      "\n"
     ]
    }
   ],
   "source": [
    "candidato_colocados.show(2)"
   ]
  },
  {
   "cell_type": "markdown",
   "metadata": {},
   "source": [
    "## PERGUNTA 1"
   ]
  },
  {
   "cell_type": "code",
   "execution_count": 34,
   "metadata": {},
   "outputs": [
    {
     "name": "stdout",
     "output_type": "stream",
     "text": [
      "Distribuição de candidatos por curso:\n",
      "+------------+--------------------------------+----------------------+---------------------------------------+--------------------------------------------------------------------------+------------------+--------------+----------------+\n",
      "|codigo_curso|curso                           |codigo_estabelecimento|estabelecimento                        |escola                                                                    |regime_pos_laboral|regime_noturno|total_candidatos|\n",
      "+------------+--------------------------------+----------------------+---------------------------------------+--------------------------------------------------------------------------+------------------+--------------+----------------+\n",
      "|9841        |Reabilitação Psicomotora        |1510                  |Universidade de Lisboa                 |Faculdade de Motricidade Humana                                           |0                 |0             |326             |\n",
      "|9813        |Medicina                        |901                   |Universidade Nova de Lisboa            |Faculdade de Ciências Médicas                                             |0                 |0             |1055            |\n",
      "|9204        |Línguas, Literaturas e Culturas |902                   |Universidade Nova de Lisboa            |Faculdade de Ciências Sociais e Humanas                                   |0                 |0             |417             |\n",
      "|9554        |Ciências da Nutrição            |901                   |Universidade Nova de Lisboa            |Faculdade de Ciências Médicas                                             |0                 |0             |124             |\n",
      "|9991        |Gestão                          |3117                  |Instituto Politécnico de Lisboa        |Instituto Superior de Contabilidade e Administração de Lisboa             |1                 |0             |445             |\n",
      "|9123        |Engenharia Mecânica             |3118                  |Instituto Politécnico de Lisboa        |Instituto Superior de Engenharia de Lisboa                                |0                 |0             |357             |\n",
      "|L213        |Engenharia Física Aplicada      |3118                  |Instituto Politécnico de Lisboa        |Instituto Superior de Engenharia de Lisboa                                |0                 |0             |47              |\n",
      "|9853        |Educação Básica                 |3052                  |Instituto Politécnico de Castelo Branco|Escola Superior de Educação de Castelo Branco                             |0                 |0             |182             |\n",
      "|L085        |Tecnologias e Gestão Municipal  |3118                  |Instituto Politécnico de Lisboa        |Instituto Superior de Engenharia de Lisboa                                |0                 |0             |89              |\n",
      "|9485        |Secretariado                    |3052                  |Instituto Politécnico de Castelo Branco|Escola Superior de Educação de Castelo Branco                             |0                 |0             |71              |\n",
      "|9707        |Ciências do Desporto            |1510                  |Universidade de Lisboa                 |Faculdade de Motricidade Humana                                           |0                 |0             |388             |\n",
      "|9751        |Engenharia Mecatrónica          |602                   |Universidade de Évora                  |Escola de Ciências e Tecnologia                                           |0                 |0             |37              |\n",
      "|L066        |Imagem Médica e Radioterapia    |3013                  |Universidade de Aveiro                 |Escola Superior de Saúde de Aveiro                                        |0                 |0             |227             |\n",
      "|9563        |Desporto                        |3081                  |Universidade do Algarve                |Escola Superior de Educação e Comunicação                                 |0                 |0             |249             |\n",
      "|L091        |Segurança do Trabalho e Ambiente|3138                  |Instituto Politécnico do Porto         |Escola Superior de Tecnologia e Gestão                                    |0                 |0             |66              |\n",
      "|9504        |Fisioterapia                    |3013                  |Universidade de Aveiro                 |Escola Superior de Saúde de Aveiro                                        |0                 |0             |444             |\n",
      "|L138        |Design de Produto e Tecnologia  |3014                  |Universidade de Aveiro                 |Escola Superior de Design, Gestão e Tecnologia da Produção de Aveiro-Norte|0                 |0             |222             |\n",
      "|9089        |Engenharia Civil                |3118                  |Instituto Politécnico de Lisboa        |Instituto Superior de Engenharia de Lisboa                                |0                 |0             |179             |\n",
      "|9109        |Engenharia Eletrotécnica        |3118                  |Instituto Politécnico de Lisboa        |Instituto Superior de Engenharia de Lisboa                                |0                 |0             |189             |\n",
      "|8002        |Línguas e Culturas Estrangeiras |3131                  |Instituto Politécnico do Porto         |Escola Superior de Educação                                               |0                 |0             |294             |\n",
      "+------------+--------------------------------+----------------------+---------------------------------------+--------------------------------------------------------------------------+------------------+--------------+----------------+\n",
      "only showing top 20 rows\n",
      "\n",
      "Distribuição de colocados por curso:\n",
      "+------------+--------------------------------------+----------------------+-------------------------------------------+-------------------------------------------------------------+------------------+--------------+---------------+\n",
      "|codigo_curso|curso                                 |codigo_estabelecimento|estabelecimento                            |escola                                                       |regime_pos_laboral|regime_noturno|total_colocados|\n",
      "+------------+--------------------------------------+----------------------+-------------------------------------------+-------------------------------------------------------------+------------------+--------------+---------------+\n",
      "|9129        |Engenharia Zootécnica                 |1201                  |Universidade de Trás-os-Montes e Alto Douro|Escola de Ciências Agrárias e Veterinárias                   |0                 |0             |8              |\n",
      "|9071        |Design de Moda                        |1501                  |Universidade de Lisboa                     |Faculdade de Arquitetura                                     |0                 |0             |50             |\n",
      "|L096        |Engenharia Geoespacial                |1103                  |Universidade do Porto                      |Faculdade de Ciências                                        |0                 |0             |3              |\n",
      "|9240        |Sociologia                            |1516                  |Universidade de Lisboa                     |Instituto Superior de Ciências Sociais e Políticas           |0                 |0             |48             |\n",
      "|9240        |Sociologia                            |604                   |Universidade de Évora                      |Escola de Ciências Sociais                                   |0                 |0             |42             |\n",
      "|9254        |Turismo                               |604                   |Universidade de Évora                      |Escola de Ciências Sociais                                   |0                 |0             |45             |\n",
      "|9841        |Reabilitação Psicomotora              |1510                  |Universidade de Lisboa                     |Faculdade de Motricidade Humana                              |0                 |0             |49             |\n",
      "|9821        |Ciências da Educação e da Formação    |201                   |Universidade do Algarve                    |Faculdade de Ciências Humanas e Sociais                      |0                 |0             |33             |\n",
      "|9229        |Relações Internacionais               |604                   |Universidade de Évora                      |Escola de Ciências Sociais                                   |0                 |0             |67             |\n",
      "|8005        |Marketing                             |3011                  |Universidade de Aveiro                     |Instituto Superior de Contabilidade e Administração de Aveiro|1                 |0             |20             |\n",
      "|L221        |Engenharia Aeroespacial               |1000                  |Universidade do Minho                      |D                                                            |0                 |0             |31             |\n",
      "|9147        |Gestão                                |1202                  |Universidade de Trás-os-Montes e Alto Douro|Escola de Ciências Humanas e Sociais                         |0                 |0             |71             |\n",
      "|9242        |Solicitadoria                         |3031                  |Instituto Politécnico do Cávado e do Ave   |Escola Superior de Gestão                                    |0                 |0             |40             |\n",
      "|9813        |Medicina                              |901                   |Universidade Nova de Lisboa                |Faculdade de Ciências Médicas                                |0                 |0             |232            |\n",
      "|9204        |Línguas, Literaturas e Culturas       |902                   |Universidade Nova de Lisboa                |Faculdade de Ciências Sociais e Humanas                      |0                 |0             |75             |\n",
      "|9212        |Meteorologia, Oceanografia e Geofísica|1503                  |Universidade de Lisboa                     |Faculdade de Ciências                                        |0                 |0             |23             |\n",
      "|9204        |Línguas, Literaturas e Culturas       |1107                  |Universidade do Porto                      |Faculdade de Letras                                          |0                 |0             |80             |\n",
      "|9455        |Engenharia Biomédica                  |1518                  |Universidade de Lisboa                     |Instituto Superior Técnico                                   |0                 |0             |102            |\n",
      "|9554        |Ciências da Nutrição                  |901                   |Universidade Nova de Lisboa                |Faculdade de Ciências Médicas                                |0                 |0             |20             |\n",
      "|9134        |Estudos Culturais                     |1000                  |Universidade do Minho                      |D                                                            |0                 |0             |21             |\n",
      "+------------+--------------------------------------+----------------------+-------------------------------------------+-------------------------------------------------------------+------------------+--------------+---------------+\n",
      "only showing top 20 rows\n",
      "\n"
     ]
    }
   ],
   "source": [
    "from pyspark.sql.functions import count\n",
    "\n",
    "# Contagem por curso no DataFrame \"candidato\" com informações adicionais\n",
    "candidato_por_curso = candidato.groupBy(\n",
    "    \"codigo_curso\", \n",
    "    \"curso\",\n",
    "    \"codigo_estabelecimento\", \n",
    "    \"estabelecimento\", \n",
    "    \"escola\", \n",
    "    \"regime_pos_laboral\", \n",
    "    \"regime_noturno\"\n",
    ").agg(count(\"*\").alias(\"total_candidatos\"))\n",
    "\n",
    "# Contagem por curso no DataFrame \"colocado\" com informações adicionais\n",
    "colocado_por_curso = colocado.groupBy(\n",
    "    \"codigo_curso\", \n",
    "    \"curso\",\n",
    "    \"codigo_estabelecimento\", \n",
    "    \"estabelecimento\", \n",
    "    \"escola\", \n",
    "    \"regime_pos_laboral\", \n",
    "    \"regime_noturno\"\n",
    ").agg(count(\"*\").alias(\"total_colocados\"))\n",
    "\n",
    "# Exibindo os resultados\n",
    "print(\"Distribuição de candidatos por curso:\")\n",
    "candidato_por_curso.show(truncate=False)\n",
    "\n",
    "print(\"Distribuição de colocados por curso:\")\n",
    "colocado_por_curso.show(truncate=False)\n"
   ]
  },
  {
   "cell_type": "code",
   "execution_count": 35,
   "metadata": {},
   "outputs": [
    {
     "data": {
      "text/plain": [
       "(1113, 1089)"
      ]
     },
     "execution_count": 35,
     "metadata": {},
     "output_type": "execute_result"
    }
   ],
   "source": [
    "candidato_por_curso.count(), colocado_por_curso.count()"
   ]
  },
  {
   "cell_type": "code",
   "execution_count": 36,
   "metadata": {},
   "outputs": [
    {
     "name": "stdout",
     "output_type": "stream",
     "text": [
      "+------------+--------------------------------+----------------------+---------------------------------------+--------------------------------------------------------------------------+------------------+--------------+----------------+---------------+\n",
      "|codigo_curso|curso                           |codigo_estabelecimento|estabelecimento                        |escola                                                                    |regime_pos_laboral|regime_noturno|total_candidatos|total_colocados|\n",
      "+------------+--------------------------------+----------------------+---------------------------------------+--------------------------------------------------------------------------+------------------+--------------+----------------+---------------+\n",
      "|9841        |Reabilitação Psicomotora        |1510                  |Universidade de Lisboa                 |Faculdade de Motricidade Humana                                           |0                 |0             |326             |49             |\n",
      "|9813        |Medicina                        |901                   |Universidade Nova de Lisboa            |Faculdade de Ciências Médicas                                             |0                 |0             |1055            |232            |\n",
      "|9204        |Línguas, Literaturas e Culturas |902                   |Universidade Nova de Lisboa            |Faculdade de Ciências Sociais e Humanas                                   |0                 |0             |417             |75             |\n",
      "|9554        |Ciências da Nutrição            |901                   |Universidade Nova de Lisboa            |Faculdade de Ciências Médicas                                             |0                 |0             |124             |20             |\n",
      "|9991        |Gestão                          |3117                  |Instituto Politécnico de Lisboa        |Instituto Superior de Contabilidade e Administração de Lisboa             |1                 |0             |445             |88             |\n",
      "|9123        |Engenharia Mecânica             |3118                  |Instituto Politécnico de Lisboa        |Instituto Superior de Engenharia de Lisboa                                |0                 |0             |357             |104            |\n",
      "|L213        |Engenharia Física Aplicada      |3118                  |Instituto Politécnico de Lisboa        |Instituto Superior de Engenharia de Lisboa                                |0                 |0             |47              |9              |\n",
      "|9853        |Educação Básica                 |3052                  |Instituto Politécnico de Castelo Branco|Escola Superior de Educação de Castelo Branco                             |0                 |0             |182             |35             |\n",
      "|L085        |Tecnologias e Gestão Municipal  |3118                  |Instituto Politécnico de Lisboa        |Instituto Superior de Engenharia de Lisboa                                |0                 |0             |89              |23             |\n",
      "|9485        |Secretariado                    |3052                  |Instituto Politécnico de Castelo Branco|Escola Superior de Educação de Castelo Branco                             |0                 |0             |71              |10             |\n",
      "|9707        |Ciências do Desporto            |1510                  |Universidade de Lisboa                 |Faculdade de Motricidade Humana                                           |0                 |0             |388             |171            |\n",
      "|9751        |Engenharia Mecatrónica          |602                   |Universidade de Évora                  |Escola de Ciências e Tecnologia                                           |0                 |0             |37              |12             |\n",
      "|L066        |Imagem Médica e Radioterapia    |3013                  |Universidade de Aveiro                 |Escola Superior de Saúde de Aveiro                                        |0                 |0             |227             |25             |\n",
      "|9563        |Desporto                        |3081                  |Universidade do Algarve                |Escola Superior de Educação e Comunicação                                 |0                 |0             |249             |41             |\n",
      "|L091        |Segurança do Trabalho e Ambiente|3138                  |Instituto Politécnico do Porto         |Escola Superior de Tecnologia e Gestão                                    |0                 |0             |66              |20             |\n",
      "|9504        |Fisioterapia                    |3013                  |Universidade de Aveiro                 |Escola Superior de Saúde de Aveiro                                        |0                 |0             |444             |40             |\n",
      "|L138        |Design de Produto e Tecnologia  |3014                  |Universidade de Aveiro                 |Escola Superior de Design, Gestão e Tecnologia da Produção de Aveiro-Norte|0                 |0             |222             |38             |\n",
      "|9089        |Engenharia Civil                |3118                  |Instituto Politécnico de Lisboa        |Instituto Superior de Engenharia de Lisboa                                |0                 |0             |179             |41             |\n",
      "|9109        |Engenharia Eletrotécnica        |3118                  |Instituto Politécnico de Lisboa        |Instituto Superior de Engenharia de Lisboa                                |0                 |0             |189             |36             |\n",
      "|8002        |Línguas e Culturas Estrangeiras |3131                  |Instituto Politécnico do Porto         |Escola Superior de Educação                                               |0                 |0             |294             |57             |\n",
      "+------------+--------------------------------+----------------------+---------------------------------------+--------------------------------------------------------------------------+------------------+--------------+----------------+---------------+\n",
      "only showing top 20 rows\n",
      "\n"
     ]
    }
   ],
   "source": [
    "resultado_join = candidato_por_curso.join(\n",
    "    colocado_por_curso, \n",
    "    on=[\n",
    "        \"codigo_curso\", \n",
    "        \"curso\",\n",
    "        \"codigo_estabelecimento\", \n",
    "        \"estabelecimento\", \n",
    "        \"escola\", \n",
    "        \"regime_pos_laboral\", \n",
    "        \"regime_noturno\"\n",
    "    ], \n",
    "    how=\"left\"  # Fazendo um join do tipo \n",
    ")\n",
    "\n",
    "# Mostrando o resultado do join\n",
    "resultado_join.show(truncate=False)"
   ]
  },
  {
   "cell_type": "code",
   "execution_count": 23,
   "metadata": {},
   "outputs": [
    {
     "data": {
      "text/plain": [
       "1113"
      ]
     },
     "execution_count": 23,
     "metadata": {},
     "output_type": "execute_result"
    }
   ],
   "source": [
    "resultado_join.count()"
   ]
  },
  {
   "cell_type": "code",
   "execution_count": 37,
   "metadata": {},
   "outputs": [
    {
     "name": "stdout",
     "output_type": "stream",
     "text": [
      "Linhas com valores vazios:\n",
      "+------------+-----------------------------------------------+----------------------+---------------------------------------+--------------------------------------------------------------------+------------------+--------------+----------------+---------------+\n",
      "|codigo_curso|curso                                          |codigo_estabelecimento|estabelecimento                        |escola                                                              |regime_pos_laboral|regime_noturno|total_candidatos|total_colocados|\n",
      "+------------+-----------------------------------------------+----------------------+---------------------------------------+--------------------------------------------------------------------+------------------+--------------+----------------+---------------+\n",
      "|9760        |Física e Química                               |602                   |Universidade de Évora                  |Escola de Ciências e Tecnologia                                     |0                 |0             |9               |NULL           |\n",
      "|L090        |Ecologia e Ambiente                            |602                   |Universidade de Évora                  |Escola de Ciências e Tecnologia                                     |0                 |0             |20              |NULL           |\n",
      "|L208        |Engenharia de Computadores                     |1307                  |Universidade da Madeira                |Faculdade de Ciências Exatas e da Engenharia                        |0                 |0             |19              |NULL           |\n",
      "|9090        |Engenharia Civil                               |3154                  |Instituto Politécnico de Setúbal       |Escola Superior de Tecnologia do Barreiro                           |0                 |1             |1               |NULL           |\n",
      "|9886        |Engenharia Mecânica                            |3102                  |Instituto Politécnico de Leiria        |Escola Superior de Tecnologia e Gestão                              |1                 |0             |10              |NULL           |\n",
      "|9188        |Informática e Comunicações                     |3045                  |Instituto Politécnico de Bragança      |Escola Superior de Comunicação, Administração e Turismo de Mirandela|0                 |0             |3               |NULL           |\n",
      "|9089        |Engenharia Civil                               |3154                  |Instituto Politécnico de Setúbal       |Escola Superior de Tecnologia do Barreiro                           |0                 |0             |6               |NULL           |\n",
      "|8397        |Engenharia de Proteção Civil                   |3051                  |Instituto Politécnico de Castelo Branco|Escola Superior Agrária de Castelo Branco                           |0                 |0             |2               |NULL           |\n",
      "|L205        |Física e Aplicações                            |400                   |Universidade da Beira Interior         |D                                                                   |0                 |0             |8               |NULL           |\n",
      "|9129        |Engenharia Zootécnica                          |3041                  |Instituto Politécnico de Bragança      |Escola Superior Agrária de Bragança                                 |0                 |0             |2               |NULL           |\n",
      "|9752        |Enologia                                       |3041                  |Instituto Politécnico de Bragança      |Escola Superior Agrária de Bragança                                 |0                 |0             |6               |NULL           |\n",
      "|9086        |Engenharia Agronómica                          |3041                  |Instituto Politécnico de Bragança      |Escola Superior Agrária de Bragança                                 |0                 |0             |5               |NULL           |\n",
      "|9099        |Engenharia do Ambiente                         |3021                  |Instituto Politécnico de Beja          |Escola Superior Agrária                                             |0                 |0             |2               |NULL           |\n",
      "|9089        |Engenharia Civil                               |3092                  |Instituto Politécnico da Guarda        |Escola Superior de Tecnologia e Gestão                              |0                 |0             |3               |NULL           |\n",
      "|8463        |Engenharia das Energias Renováveis             |3053                  |Instituto Politécnico de Castelo Branco|Escola Superior de Tecnologia de Castelo Branco                     |0                 |0             |5               |NULL           |\n",
      "|9350        |Ciência e Tecnologia dos Alimentos             |3021                  |Instituto Politécnico de Beja          |Escola Superior Agrária                                             |0                 |0             |4               |NULL           |\n",
      "|9111        |Engenharia Eletrotécnica e das Telecomunicações|3053                  |Instituto Politécnico de Castelo Branco|Escola Superior de Tecnologia de Castelo Branco                     |0                 |0             |2               |NULL           |\n",
      "|9087        |Engenharia Alimentar                           |3105                  |Instituto Politécnico de Leiria        |Escola Superior de Turismo e Tecnologia do Mar                      |0                 |0             |1               |NULL           |\n",
      "|9125        |Engenharia Química                             |3043                  |Instituto Politécnico de Bragança      |Escola Superior de Tecnologia e de Gestão de Bragança               |0                 |0             |1               |NULL           |\n",
      "|9104        |Engenharia e Gestão Industrial                 |3043                  |Instituto Politécnico de Bragança      |Escola Superior de Tecnologia e de Gestão de Bragança               |0                 |0             |6               |NULL           |\n",
      "+------------+-----------------------------------------------+----------------------+---------------------------------------+--------------------------------------------------------------------+------------------+--------------+----------------+---------------+\n",
      "only showing top 20 rows\n",
      "\n"
     ]
    }
   ],
   "source": [
    "from pyspark.sql.functions import col\n",
    "linhas_vazias = resultado_join.filter(\n",
    "    \" OR \".join([f\"{c} IS NULL\" for c in resultado_join.columns])\n",
    ")\n",
    "\n",
    "# Mostrando as linhas com valores vazios\n",
    "print(\"Linhas com valores vazios:\")\n",
    "linhas_vazias.show(truncate=False)"
   ]
  },
  {
   "cell_type": "code",
   "execution_count": 38,
   "metadata": {},
   "outputs": [],
   "source": [
    "resultado_join_sem_nulos = resultado_join.fillna(0)"
   ]
  },
  {
   "cell_type": "code",
   "execution_count": 39,
   "metadata": {},
   "outputs": [],
   "source": [
    "resultado_join_sem_nulos_pd=resultado_join_sem_nulos.toPandas()\n",
    "resultado_join_sem_nulos_pd.to_csv('num_candidatos_vc_num_colocados.csv')"
   ]
  },
  {
   "cell_type": "markdown",
   "metadata": {},
   "source": [
    "## PERGUNTA 4"
   ]
  },
  {
   "cell_type": "code",
   "execution_count": 31,
   "metadata": {},
   "outputs": [
    {
     "name": "stdout",
     "output_type": "stream",
     "text": [
      "Médias calculadas por agrupamento (arredondadas a 3 casas decimais):\n",
      "+----------------------+------------+-------------------------------------------+-------------------------------------------------------------+---------------------------------+------------------+--------------+----------+--------+---------+-------------+\n",
      "|codigo_estabelecimento|codigo_curso|estabelecimento                            |escola                                                       |curso                            |regime_pos_laboral|regime_noturno|media_Nota|media_PI|media_12º|media_10º/11º|\n",
      "+----------------------+------------+-------------------------------------------+-------------------------------------------------------------+---------------------------------+------------------+--------------+----------+--------+---------+-------------+\n",
      "|3163                  |9147        |Instituto Politécnico de Viana do Castelo  |Escola Superior de Tecnologia e Gestão                       |Gestão                           |0                 |0             |158.85    |151.556 |162.741  |162.741      |\n",
      "|150                   |L041        |Universidade dos Açores                    |Faculdade de Ciências Sociais e Humanas                      |Estudos Portugueses e Ingleses   |0                 |0             |152.992   |157.083 |150.75   |150.75       |\n",
      "|3011                  |9888        |Universidade de Aveiro                     |Instituto Superior de Contabilidade e Administração de Aveiro|Finanças                         |1                 |0             |144.94    |139.0   |148.1    |148.1        |\n",
      "|1104                  |9081        |Universidade do Porto                      |Faculdade de Economia                                        |Economia                         |0                 |0             |184.754   |185.363 |184.13   |184.13       |\n",
      "|1501                  |9069        |Universidade de Lisboa                     |Faculdade de Arquitetura                                     |Design                           |0                 |0             |176.09    |179.78  |172.4    |172.4        |\n",
      "|602                   |9847        |Universidade de Évora                      |Escola de Ciências e Tecnologia                              |Medicina Veterinária             |0                 |0             |167.189   |148.623 |177.158  |177.158      |\n",
      "|3163                  |9087        |Instituto Politécnico de Viana do Castelo  |Escola Superior de Tecnologia e Gestão                       |Engenharia Alimentar             |0                 |0             |147.0     |121.0   |161.0    |161.0        |\n",
      "|1518                  |9455        |Universidade de Lisboa                     |Instituto Superior Técnico                                   |Engenharia Biomédica             |0                 |0             |181.836   |178.25  |185.373  |185.373      |\n",
      "|7005                  |8138        |Instituto Politécnico de Beja              |Escola Superior de Saúde                                     |Terapia Ocupacional              |0                 |0             |132.514   |112.286 |143.381  |143.381      |\n",
      "|7210                  |9549        |Instituto Politécnico de Coimbra           |Escola Superior de Tecnologia da Saúde de Coimbra            |Farmácia                         |0                 |0             |143.707   |120.512 |156.171  |156.171      |\n",
      "|505                   |9779        |Universidade de Coimbra                    |Faculdade de Letras                                          |Línguas Modernas                 |0                 |0             |167.72    |173.214 |162.226  |162.226      |\n",
      "|3052                  |9485        |Instituto Politécnico de Castelo Branco    |Escola Superior de Educação de Castelo Branco                |Secretariado                     |0                 |0             |128.48    |120.0   |133.0    |133.0        |\n",
      "|1306                  |9069        |Universidade da Madeira                    |Faculdade de Artes e Humanidades                             |Design                           |0                 |0             |152.5     |149.0   |155.333  |155.333      |\n",
      "|3011                  |8005        |Universidade de Aveiro                     |Instituto Superior de Contabilidade e Administração de Aveiro|Marketing                        |1                 |0             |145.99    |135.7   |151.5    |151.5        |\n",
      "|3182                  |9709        |Instituto Politécnico de Viseu             |Escola Superior de Tecnologia e Gestão de Viseu              |Ciências e Tecnologia do Ambiente|0                 |0             |97.0      |97.0    |97.0     |97.0         |\n",
      "|1203                  |9089        |Universidade de Trás-os-Montes e Alto Douro|Escola de Ciências e Tecnologia                              |Engenharia Civil                 |0                 |0             |131.213   |108.813 |143.25   |143.25       |\n",
      "|3117                  |9889        |Instituto Politécnico de Lisboa            |Instituto Superior de Contabilidade e Administração de Lisboa|Finanças Empresariais            |1                 |0             |151.039   |149.913 |151.609  |151.609      |\n",
      "|3031                  |8015        |Instituto Politécnico do Cávado e do Ave   |Escola Superior de Gestão                                    |Solicitadoria                    |1                 |0             |149.126   |136.6   |155.829  |155.829      |\n",
      "|1202                  |9204        |Universidade de Trás-os-Montes e Alto Douro|Escola de Ciências Humanas e Sociais                         |Línguas, Literaturas e Culturas  |0                 |0             |153.692   |151.436 |154.872  |154.872      |\n",
      "|300                   |9119        |Universidade de Aveiro                     |D                                                            |Engenharia Informática           |0                 |0             |182.021   |185.769 |178.269  |178.269      |\n",
      "+----------------------+------------+-------------------------------------------+-------------------------------------------------------------+---------------------------------+------------------+--------------+----------+--------+---------+-------------+\n",
      "only showing top 20 rows\n",
      "\n"
     ]
    }
   ],
   "source": [
    "from pyspark.sql.functions import avg, round\n",
    "\n",
    "# Calculando a média e arredondando para 3 casas decimais\n",
    "medias = candidato_colocados.groupBy(\n",
    "    \"codigo_estabelecimento\",\n",
    "    \"codigo_curso\",\n",
    "    \"estabelecimento\",\n",
    "    \"escola\",\n",
    "    \"curso\",\n",
    "    \"regime_pos_laboral\",\n",
    "    \"regime_noturno\"\n",
    ").agg(\n",
    "    round(avg(\"Nota\"), 3).alias(\"media_Nota\"),\n",
    "    round(avg(\"PI\"), 3).alias(\"media_PI\"),\n",
    "    round(avg(\"12º\"), 3).alias(\"media_12º\"),\n",
    "    round(avg(\"10º/11º\"), 3).alias(\"media_10º/11º\")\n",
    ")\n",
    "\n",
    "# Mostrando o resultado\n",
    "print(\"Médias calculadas por agrupamento (arredondadas a 3 casas decimais):\")\n",
    "medias.show(truncate=False)\n"
   ]
  },
  {
   "cell_type": "code",
   "execution_count": 32,
   "metadata": {},
   "outputs": [
    {
     "data": {
      "text/plain": [
       "1089"
      ]
     },
     "execution_count": 32,
     "metadata": {},
     "output_type": "execute_result"
    }
   ],
   "source": [
    "medias.count()"
   ]
  },
  {
   "cell_type": "code",
   "execution_count": 33,
   "metadata": {},
   "outputs": [],
   "source": [
    "medias_pd=medias.toPandas()\n",
    "medias_pd.to_csv('medias_colocados.csv')"
   ]
  },
  {
   "cell_type": "markdown",
   "metadata": {},
   "source": [
    "## PERGUNTA 5"
   ]
  },
  {
   "cell_type": "code",
   "execution_count": 42,
   "metadata": {},
   "outputs": [
    {
     "name": "stdout",
     "output_type": "stream",
     "text": [
      "Contagem de registros por grupo:\n",
      "+----------------------+------------+------------------------------------------------+-------------------------------------------+------------------------------------------------+------------------+--------------+--------------------+\n",
      "|codigo_estabelecimento|codigo_curso|curso                                           |estabelecimento                            |escola                                          |regime_pos_laboral|regime_noturno|total_candidatos_1op|\n",
      "+----------------------+------------+------------------------------------------------+-------------------------------------------+------------------------------------------------+------------------+--------------+--------------------+\n",
      "|1508                  |9556        |Higiene Oral                                    |Universidade de Lisboa                     |Faculdade de Medicina Dentária                  |0                 |0             |41                  |\n",
      "|3082                  |9173        |Gestão Hoteleira                                |Universidade do Algarve                    |Escola Superior de Gestão, Hotelaria e Turismo  |0                 |0             |37                  |\n",
      "|602                   |9119        |Engenharia Informática                          |Universidade de Évora                      |Escola de Ciências e Tecnologia                 |0                 |0             |62                  |\n",
      "|602                   |9015        |Bioquímica                                      |Universidade de Évora                      |Escola de Ciências e Tecnologia                 |0                 |0             |14                  |\n",
      "|3012                  |9235        |Secretariado e Comunicação Empresarial          |Universidade de Aveiro                     |Escola Superior de Tecnologia e Gestão de Águeda|0                 |0             |12                  |\n",
      "|3131                  |9853        |Educação Básica                                 |Instituto Politécnico do Porto             |Escola Superior de Educação                     |0                 |0             |190                 |\n",
      "|1204                  |9761        |Genética e Biotecnologia                        |Universidade de Trás-os-Montes e Alto Douro|Escola de Ciências da Vida e do Ambiente        |0                 |0             |38                  |\n",
      "|1204                  |9707        |Ciências do Desporto                            |Universidade de Trás-os-Montes e Alto Douro|Escola de Ciências da Vida e do Ambiente        |0                 |0             |159                 |\n",
      "|1508                  |9791        |Prótese Dentária                                |Universidade de Lisboa                     |Faculdade de Medicina Dentária                  |0                 |0             |28                  |\n",
      "|602                   |9752        |Enologia                                        |Universidade de Évora                      |Escola de Ciências e Tecnologia                 |0                 |0             |5                   |\n",
      "|3138                  |8398        |Segurança Informática em Redes de Computadores  |Instituto Politécnico do Porto             |Escola Superior de Tecnologia e Gestão          |0                 |0             |12                  |\n",
      "|902                   |8109        |Sociologia                                      |Universidade Nova de Lisboa                |Faculdade de Ciências Sociais e Humanas         |1                 |0             |7                   |\n",
      "|602                   |9011        |Biologia                                        |Universidade de Évora                      |Escola de Ciências e Tecnologia                 |0                 |0             |15                  |\n",
      "|3118                  |L117        |Matemática Aplicada à Tecnologia e à Empresa    |Instituto Politécnico de Lisboa            |Instituto Superior de Engenharia de Lisboa      |0                 |0             |14                  |\n",
      "|3034                  |9173        |Gestão Hoteleira                                |Instituto Politécnico do Cávado e do Ave   |Escola Superior de Hotelaria e Turismo          |0                 |0             |19                  |\n",
      "|902                   |9182        |História da Arte                                |Universidade Nova de Lisboa                |Faculdade de Ciências Sociais e Humanas         |0                 |0             |46                  |\n",
      "|1517                  |A006        |Economia (ensino em Inglês)                     |Universidade de Lisboa                     |Instituto Superior de Economia e Gestão         |0                 |0             |22                  |\n",
      "|3052                  |9853        |Educação Básica                                 |Instituto Politécnico de Castelo Branco    |Escola Superior de Educação de Castelo Branco   |0                 |0             |25                  |\n",
      "|3081                  |9563        |Desporto                                        |Universidade do Algarve                    |Escola Superior de Educação e Comunicação       |0                 |0             |69                  |\n",
      "|3118                  |L119        |Engenharia Informática, Redes e Telecomunicações|Instituto Politécnico de Lisboa            |Instituto Superior de Engenharia de Lisboa      |0                 |0             |20                  |\n",
      "+----------------------+------------+------------------------------------------------+-------------------------------------------+------------------------------------------------+------------------+--------------+--------------------+\n",
      "only showing top 20 rows\n",
      "\n"
     ]
    }
   ],
   "source": [
    "# Filtrando os candidatos com \"Opção\" igual a 1\n",
    "candidatos_filtrados = candidato.filter(candidato[\"Opção\"] == 1)\n",
    "\n",
    "# Contando os registros por grupo\n",
    "candidatos_1op = candidatos_filtrados.groupBy(\n",
    "    \"codigo_estabelecimento\",\n",
    "    \"codigo_curso\",\n",
    "    \"curso\",\n",
    "    \"estabelecimento\",\n",
    "    \"escola\",\n",
    "    \"regime_pos_laboral\",\n",
    "    \"regime_noturno\"\n",
    ").count()\n",
    "\n",
    "# Renomeando a coluna 'count' para 'total_candidatos_1op'\n",
    "candidatos_1op_renomeado = candidatos_1op.withColumnRenamed(\"count\", \"total_candidatos_1op\")\n",
    "\n",
    "# Mostrando o resultado\n",
    "print(\"Contagem de registros por grupo:\")\n",
    "candidatos_1op_renomeado.show(truncate=False)\n"
   ]
  },
  {
   "cell_type": "code",
   "execution_count": 44,
   "metadata": {},
   "outputs": [
    {
     "name": "stdout",
     "output_type": "stream",
     "text": [
      "Contagem de registros por grupo:\n",
      "+----------------------+------------+---------------------------------+-------------------------------------------+-------------------------------------------------------------+------------------+--------------+-------------------+\n",
      "|codigo_estabelecimento|codigo_curso|curso                            |estabelecimento                            |escola                                                       |regime_pos_laboral|regime_noturno|total_colocados_1op|\n",
      "+----------------------+------------+---------------------------------+-------------------------------------------+-------------------------------------------------------------+------------------+--------------+-------------------+\n",
      "|505                   |9181        |História                         |Universidade de Coimbra                    |Faculdade de Letras                                          |0                 |0             |44                 |\n",
      "|3139                  |9164        |Gestão e Administração Hoteleira |Instituto Politécnico do Porto             |Escola Superior de Hotelaria e Turismo                       |0                 |0             |29                 |\n",
      "|300                   |9147        |Gestão                           |Universidade de Aveiro                     |D                                                            |0                 |0             |28                 |\n",
      "|3102                  |9741        |Engenharia Automóvel             |Instituto Politécnico de Leiria            |Escola Superior de Tecnologia e Gestão                       |0                 |0             |26                 |\n",
      "|3182                  |8296        |Gestão Industrial                |Instituto Politécnico de Viseu             |Escola Superior de Tecnologia e Gestão de Viseu              |0                 |0             |2                  |\n",
      "|1508                  |9556        |Higiene Oral                     |Universidade de Lisboa                     |Faculdade de Medicina Dentária                               |0                 |0             |20                 |\n",
      "|3082                  |9173        |Gestão Hoteleira                 |Universidade do Algarve                    |Escola Superior de Gestão, Hotelaria e Turismo               |0                 |0             |25                 |\n",
      "|201                   |8509        |Património Cultural e Arqueologia|Universidade do Algarve                    |Faculdade de Ciências Humanas e Sociais                      |0                 |0             |12                 |\n",
      "|3163                  |9723        |Design de Ambientes              |Instituto Politécnico de Viana do Castelo  |Escola Superior de Tecnologia e Gestão                       |0                 |0             |15                 |\n",
      "|3182                  |9119        |Engenharia Informática           |Instituto Politécnico de Viseu             |Escola Superior de Tecnologia e Gestão de Viseu              |0                 |0             |56                 |\n",
      "|1203                  |9119        |Engenharia Informática           |Universidade de Trás-os-Montes e Alto Douro|Escola de Ciências e Tecnologia                              |0                 |0             |70                 |\n",
      "|3102                  |9885        |Engenharia Informática           |Instituto Politécnico de Leiria            |Escola Superior de Tecnologia e Gestão                       |1                 |0             |7                  |\n",
      "|7035                  |L066        |Imagem Médica e Radioterapia     |Universidade do Algarve                    |Escola Superior de Saúde                                     |0                 |0             |14                 |\n",
      "|3142                  |L179        |Produção Multimédia em Educação  |Instituto Politécnico de Santarém          |Escola Superior de Educação de Santarém                      |0                 |0             |18                 |\n",
      "|505                   |9139        |Filosofia                        |Universidade de Coimbra                    |Faculdade de Letras                                          |0                 |0             |13                 |\n",
      "|7035                  |L068        |Ciências Biomédicas Laboratoriais|Universidade do Algarve                    |Escola Superior de Saúde                                     |0                 |0             |20                 |\n",
      "|3011                  |9140        |Finanças                         |Universidade de Aveiro                     |Instituto Superior de Contabilidade e Administração de Aveiro|0                 |0             |14                 |\n",
      "|3143                  |9156        |Gestão de Marketing              |Instituto Politécnico de Santarém          |Escola Superior de Gestão e Tecnologia de Santarém           |0                 |0             |21                 |\n",
      "|7230                  |9861        |Saúde Ambiental                  |Instituto Politécnico do Porto             |Escola Superior de Saúde                                     |0                 |0             |8                  |\n",
      "|602                   |9119        |Engenharia Informática           |Universidade de Évora                      |Escola de Ciências e Tecnologia                              |0                 |0             |47                 |\n",
      "+----------------------+------------+---------------------------------+-------------------------------------------+-------------------------------------------------------------+------------------+--------------+-------------------+\n",
      "only showing top 20 rows\n",
      "\n"
     ]
    }
   ],
   "source": [
    "# Filtrando os candidatos com \"Opção\" igual a 1\n",
    "candidatos_filtrados = candidato_colocados.filter(candidato_colocados[\"Opção\"] == 1)\n",
    "\n",
    "# Contando os registros por grupo\n",
    "colocados_1op = candidatos_filtrados.groupBy(\n",
    "    \"codigo_estabelecimento\",\n",
    "    \"codigo_curso\",\n",
    "    \"curso\",\n",
    "    \"estabelecimento\",\n",
    "    \"escola\",\n",
    "    \"regime_pos_laboral\",\n",
    "    \"regime_noturno\"\n",
    ").count()\n",
    "\n",
    "# Renomeando a coluna 'count' para 'total_candidatos_1op'\n",
    "colocados_1op_renomeado = colocados_1op.withColumnRenamed(\"count\", \"total_colocados_1op\")\n",
    "\n",
    "# Mostrando o resultado\n",
    "print(\"Contagem de registros por grupo:\")\n",
    "colocados_1op_renomeado.show(truncate=False)\n"
   ]
  },
  {
   "cell_type": "code",
   "execution_count": 45,
   "metadata": {},
   "outputs": [
    {
     "data": {
      "text/plain": [
       "(1077, 1077)"
      ]
     },
     "execution_count": 45,
     "metadata": {},
     "output_type": "execute_result"
    }
   ],
   "source": [
    "candidatos_1op_renomeado.count(), colocados_1op_renomeado.count()"
   ]
  },
  {
   "cell_type": "code",
   "execution_count": 46,
   "metadata": {},
   "outputs": [
    {
     "name": "stdout",
     "output_type": "stream",
     "text": [
      "+------------+---------------------------------+----------------------+-------------------------------------------+-------------------------------------------------------------+------------------+--------------+--------------------+-------------------+\n",
      "|codigo_curso|curso                            |codigo_estabelecimento|estabelecimento                            |escola                                                       |regime_pos_laboral|regime_noturno|total_candidatos_1op|total_colocados_1op|\n",
      "+------------+---------------------------------+----------------------+-------------------------------------------+-------------------------------------------------------------+------------------+--------------+--------------------+-------------------+\n",
      "|9181        |História                         |505                   |Universidade de Coimbra                    |Faculdade de Letras                                          |0                 |0             |95                  |44                 |\n",
      "|9164        |Gestão e Administração Hoteleira |3139                  |Instituto Politécnico do Porto             |Escola Superior de Hotelaria e Turismo                       |0                 |0             |71                  |29                 |\n",
      "|9147        |Gestão                           |300                   |Universidade de Aveiro                     |D                                                            |0                 |0             |76                  |28                 |\n",
      "|9741        |Engenharia Automóvel             |3102                  |Instituto Politécnico de Leiria            |Escola Superior de Tecnologia e Gestão                       |0                 |0             |26                  |26                 |\n",
      "|8296        |Gestão Industrial                |3182                  |Instituto Politécnico de Viseu             |Escola Superior de Tecnologia e Gestão de Viseu              |0                 |0             |2                   |2                  |\n",
      "|9556        |Higiene Oral                     |1508                  |Universidade de Lisboa                     |Faculdade de Medicina Dentária                               |0                 |0             |41                  |20                 |\n",
      "|9173        |Gestão Hoteleira                 |3082                  |Universidade do Algarve                    |Escola Superior de Gestão, Hotelaria e Turismo               |0                 |0             |37                  |25                 |\n",
      "|8509        |Património Cultural e Arqueologia|201                   |Universidade do Algarve                    |Faculdade de Ciências Humanas e Sociais                      |0                 |0             |19                  |12                 |\n",
      "|9723        |Design de Ambientes              |3163                  |Instituto Politécnico de Viana do Castelo  |Escola Superior de Tecnologia e Gestão                       |0                 |0             |43                  |15                 |\n",
      "|9119        |Engenharia Informática           |3182                  |Instituto Politécnico de Viseu             |Escola Superior de Tecnologia e Gestão de Viseu              |0                 |0             |92                  |56                 |\n",
      "|9119        |Engenharia Informática           |1203                  |Universidade de Trás-os-Montes e Alto Douro|Escola de Ciências e Tecnologia                              |0                 |0             |80                  |70                 |\n",
      "|9885        |Engenharia Informática           |3102                  |Instituto Politécnico de Leiria            |Escola Superior de Tecnologia e Gestão                       |1                 |0             |7                   |7                  |\n",
      "|L066        |Imagem Médica e Radioterapia     |7035                  |Universidade do Algarve                    |Escola Superior de Saúde                                     |0                 |0             |23                  |14                 |\n",
      "|L179        |Produção Multimédia em Educação  |3142                  |Instituto Politécnico de Santarém          |Escola Superior de Educação de Santarém                      |0                 |0             |21                  |18                 |\n",
      "|9139        |Filosofia                        |505                   |Universidade de Coimbra                    |Faculdade de Letras                                          |0                 |0             |15                  |13                 |\n",
      "|L068        |Ciências Biomédicas Laboratoriais|7035                  |Universidade do Algarve                    |Escola Superior de Saúde                                     |0                 |0             |23                  |20                 |\n",
      "|9140        |Finanças                         |3011                  |Universidade de Aveiro                     |Instituto Superior de Contabilidade e Administração de Aveiro|0                 |0             |48                  |14                 |\n",
      "|9156        |Gestão de Marketing              |3143                  |Instituto Politécnico de Santarém          |Escola Superior de Gestão e Tecnologia de Santarém           |0                 |0             |36                  |21                 |\n",
      "|9861        |Saúde Ambiental                  |7230                  |Instituto Politécnico do Porto             |Escola Superior de Saúde                                     |0                 |0             |13                  |8                  |\n",
      "|9119        |Engenharia Informática           |602                   |Universidade de Évora                      |Escola de Ciências e Tecnologia                              |0                 |0             |62                  |47                 |\n",
      "+------------+---------------------------------+----------------------+-------------------------------------------+-------------------------------------------------------------+------------------+--------------+--------------------+-------------------+\n",
      "only showing top 20 rows\n",
      "\n"
     ]
    }
   ],
   "source": [
    "resultado_join = candidatos_1op_renomeado.join(\n",
    "    colocados_1op_renomeado, \n",
    "    on=[\n",
    "        \"codigo_curso\", \n",
    "        \"curso\",\n",
    "        \"codigo_estabelecimento\", \n",
    "        \"estabelecimento\", \n",
    "        \"escola\", \n",
    "        \"regime_pos_laboral\", \n",
    "        \"regime_noturno\"\n",
    "    ], \n",
    "    how=\"inner\"  # Fazendo um join do tipo \n",
    ")\n",
    "\n",
    "# Mostrando o resultado do join\n",
    "resultado_join.show(truncate=False)"
   ]
  },
  {
   "cell_type": "code",
   "execution_count": 49,
   "metadata": {},
   "outputs": [
    {
     "name": "stdout",
     "output_type": "stream",
     "text": [
      "+------------+---------------------------------+----------------------+-------------------------------------------+-------------------------------------------------------------+------------------+--------------+--------------------+-------------------+-------------------+\n",
      "|codigo_curso|curso                            |codigo_estabelecimento|estabelecimento                            |escola                                                       |regime_pos_laboral|regime_noturno|total_candidatos_1op|total_colocados_1op|proporcao_colocados|\n",
      "+------------+---------------------------------+----------------------+-------------------------------------------+-------------------------------------------------------------+------------------+--------------+--------------------+-------------------+-------------------+\n",
      "|9181        |História                         |505                   |Universidade de Coimbra                    |Faculdade de Letras                                          |0                 |0             |95                  |44                 |46.3               |\n",
      "|9164        |Gestão e Administração Hoteleira |3139                  |Instituto Politécnico do Porto             |Escola Superior de Hotelaria e Turismo                       |0                 |0             |71                  |29                 |40.8               |\n",
      "|9147        |Gestão                           |300                   |Universidade de Aveiro                     |D                                                            |0                 |0             |76                  |28                 |36.8               |\n",
      "|9741        |Engenharia Automóvel             |3102                  |Instituto Politécnico de Leiria            |Escola Superior de Tecnologia e Gestão                       |0                 |0             |26                  |26                 |100.0              |\n",
      "|8296        |Gestão Industrial                |3182                  |Instituto Politécnico de Viseu             |Escola Superior de Tecnologia e Gestão de Viseu              |0                 |0             |2                   |2                  |100.0              |\n",
      "|9556        |Higiene Oral                     |1508                  |Universidade de Lisboa                     |Faculdade de Medicina Dentária                               |0                 |0             |41                  |20                 |48.8               |\n",
      "|9173        |Gestão Hoteleira                 |3082                  |Universidade do Algarve                    |Escola Superior de Gestão, Hotelaria e Turismo               |0                 |0             |37                  |25                 |67.6               |\n",
      "|8509        |Património Cultural e Arqueologia|201                   |Universidade do Algarve                    |Faculdade de Ciências Humanas e Sociais                      |0                 |0             |19                  |12                 |63.2               |\n",
      "|9723        |Design de Ambientes              |3163                  |Instituto Politécnico de Viana do Castelo  |Escola Superior de Tecnologia e Gestão                       |0                 |0             |43                  |15                 |34.9               |\n",
      "|9119        |Engenharia Informática           |3182                  |Instituto Politécnico de Viseu             |Escola Superior de Tecnologia e Gestão de Viseu              |0                 |0             |92                  |56                 |60.9               |\n",
      "|9119        |Engenharia Informática           |1203                  |Universidade de Trás-os-Montes e Alto Douro|Escola de Ciências e Tecnologia                              |0                 |0             |80                  |70                 |87.5               |\n",
      "|9885        |Engenharia Informática           |3102                  |Instituto Politécnico de Leiria            |Escola Superior de Tecnologia e Gestão                       |1                 |0             |7                   |7                  |100.0              |\n",
      "|L066        |Imagem Médica e Radioterapia     |7035                  |Universidade do Algarve                    |Escola Superior de Saúde                                     |0                 |0             |23                  |14                 |60.9               |\n",
      "|L179        |Produção Multimédia em Educação  |3142                  |Instituto Politécnico de Santarém          |Escola Superior de Educação de Santarém                      |0                 |0             |21                  |18                 |85.7               |\n",
      "|9139        |Filosofia                        |505                   |Universidade de Coimbra                    |Faculdade de Letras                                          |0                 |0             |15                  |13                 |86.7               |\n",
      "|L068        |Ciências Biomédicas Laboratoriais|7035                  |Universidade do Algarve                    |Escola Superior de Saúde                                     |0                 |0             |23                  |20                 |87.0               |\n",
      "|9140        |Finanças                         |3011                  |Universidade de Aveiro                     |Instituto Superior de Contabilidade e Administração de Aveiro|0                 |0             |48                  |14                 |29.2               |\n",
      "|9156        |Gestão de Marketing              |3143                  |Instituto Politécnico de Santarém          |Escola Superior de Gestão e Tecnologia de Santarém           |0                 |0             |36                  |21                 |58.3               |\n",
      "|9861        |Saúde Ambiental                  |7230                  |Instituto Politécnico do Porto             |Escola Superior de Saúde                                     |0                 |0             |13                  |8                  |61.5               |\n",
      "|9119        |Engenharia Informática           |602                   |Universidade de Évora                      |Escola de Ciências e Tecnologia                              |0                 |0             |62                  |47                 |75.8               |\n",
      "+------------+---------------------------------+----------------------+-------------------------------------------+-------------------------------------------------------------+------------------+--------------+--------------------+-------------------+-------------------+\n",
      "only showing top 20 rows\n",
      "\n"
     ]
    }
   ],
   "source": [
    "df_proporcao = resultado_join.withColumn(\n",
    "    \"proporcao_colocados\",\n",
    "    round(((col(\"total_colocados_1op\") / col(\"total_candidatos_1op\"))*100),1)\n",
    ")\n",
    "\n",
    "# Mostrando o resultado\n",
    "df_proporcao.show(truncate=False)"
   ]
  },
  {
   "cell_type": "code",
   "execution_count": 50,
   "metadata": {},
   "outputs": [],
   "source": [
    "df_proporcao_pd=df_proporcao.toPandas()\n",
    "df_proporcao_pd.to_csv('num5.csv')"
   ]
  },
  {
   "cell_type": "markdown",
   "metadata": {},
   "source": [
    "## PERGUNTA 7"
   ]
  },
  {
   "cell_type": "code",
   "execution_count": null,
   "metadata": {},
   "outputs": [
    {
     "name": "stdout",
     "output_type": "stream",
     "text": [
      "+--------------------+----------+-----+--------------------+-------------------+--------------------+----------------------+------------+\n",
      "|                Nome|        cc|Opção|     estabelecimento|              curso|              escola|codigo_estabelecimento|codigo_curso|\n",
      "+--------------------+----------+-----+--------------------+-------------------+--------------------+----------------------+------------+\n",
      "|JORGE DINIS DE JE...|307(...)84|    2|Universidade de É...|          Agronomia|Escola de Ciência...|                   602|        9003|\n",
      "|MADALENA DUARTE V...|153(...)42|    2|Universidade de É...|          Agronomia|Escola de Ciência...|                   602|        9003|\n",
      "|JOÃO ANTÓNIO GOME...|303(...)27|    2|Universidade de É...|          Agronomia|Escola de Ciência...|                   602|        9003|\n",
      "|JOSÉ LUÍS BRITO M...|307(...)51|    6|Universidade de É...|          Agronomia|Escola de Ciência...|                   602|        9003|\n",
      "|LUCAS SANTIAGO VE...|301(...)50|    2|Universidade de É...|          Agronomia|Escola de Ciência...|                   602|        9003|\n",
      "|CATARINA SOFIA DO...|309(...)53|    2|Universidade de É...|Biologia e Geologia|Escola de Ciência...|                   602|        9012|\n",
      "|MARIA DOS SANTOS ...|158(...)13|    2|Universidade de É...|Biologia e Geologia|Escola de Ciência...|                   602|        9012|\n",
      "|MARIANA SILVA RELVAS|306(...)46|    4|Universidade de É...|Biologia e Geologia|Escola de Ciência...|                   602|        9012|\n",
      "|VASSILIY DA CRUZ ...|308(...)51|    2|Universidade de É...|Biologia e Geologia|Escola de Ciência...|                   602|        9012|\n",
      "|MARIANA VALADAS P...|150(...)34|    2|Universidade de É...|Biologia e Geologia|Escola de Ciência...|                   602|        9012|\n",
      "|FRANCISCO ALEXAND...|313(...)28|    3|Universidade de É...|Biologia e Geologia|Escola de Ciência...|                   602|        9012|\n",
      "|TOMÁS DE FREITAS ...|156(...)67|    2|Universidade de É...|Biologia e Geologia|Escola de Ciência...|                   602|        9012|\n",
      "|NUNO AFONSO DE OL...|315(...)56|    3|Universidade de É...|Biologia e Geologia|Escola de Ciência...|                   602|        9012|\n",
      "|DIOGO LOURENÇO MO...|301(...)15|    2|Universidade de É...|Biologia e Geologia|Escola de Ciência...|                   602|        9012|\n",
      "|IRINA ARAÚJO GUER...|304(...)28|    3|Universidade de É...|    Biologia Humana|Escola de Ciência...|                   602|        8262|\n",
      "|MARIA BEATRIZ MIL...|306(...)88|    2|Universidade de É...|    Biologia Humana|Escola de Ciência...|                   602|        8262|\n",
      "|DUARTE MIGUEL PIN...|309(...)32|    2|Universidade de É...|    Biologia Humana|Escola de Ciência...|                   602|        8262|\n",
      "|MARIANA FILIPA ÁG...|159(...)39|    2|Universidade de É...|    Biologia Humana|Escola de Ciência...|                   602|        8262|\n",
      "|MARIA INÊS MARTIN...|152(...)45|    4|Universidade de É...|    Biologia Humana|Escola de Ciência...|                   602|        8262|\n",
      "|VANDA LUISA PORTU...|152(...)79|    5|Universidade de É...|    Biologia Humana|Escola de Ciência...|                   602|        8262|\n",
      "+--------------------+----------+-----+--------------------+-------------------+--------------------+----------------------+------------+\n",
      "only showing top 20 rows\n",
      "\n"
     ]
    }
   ],
   "source": [
    "from pyspark.sql import functions as F\n",
    "\n",
    "df_filtrado = candidato_colocados.filter(F.col(\"opção\") != 1)\n",
    "colunas_desejadas = [\"Nome\", \"cc\", \"Opção\", \"estabelecimento\", \"curso\", \"escola\", \"codigo_estabelecimento\", \"codigo_curso\"]\n",
    "colocados_n_1op = df_filtrado.select(*colunas_desejadas)\n",
    "\n",
    "colocados_n_1op.show()"
   ]
  },
  {
   "cell_type": "code",
   "execution_count": null,
   "metadata": {},
   "outputs": [],
   "source": [
    "colunas_para_renomear = [\"Opção\", \"estabelecimento\", \"curso\", \"escola\", \"codigo_estabelecimento\", \"codigo_curso\"]\n",
    "for coluna in colunas_para_renomear:\n",
    "    colocados_n_1op = colocados_n_1op.withColumnRenamed(coluna, f\"A{coluna}\")"
   ]
  },
  {
   "cell_type": "code",
   "execution_count": null,
   "metadata": {},
   "outputs": [
    {
     "name": "stdout",
     "output_type": "stream",
     "text": [
      "+--------------------+----------+------+--------------------+---------+--------------------+-----------------------+-------------+\n",
      "|                Nome|        cc|AOpção|    Aestabelecimento|   Acurso|             Aescola|Acodigo_estabelecimento|Acodigo_curso|\n",
      "+--------------------+----------+------+--------------------+---------+--------------------+-----------------------+-------------+\n",
      "|JORGE DINIS DE JE...|307(...)84|     2|Universidade de É...|Agronomia|Escola de Ciência...|                    602|         9003|\n",
      "|MADALENA DUARTE V...|153(...)42|     2|Universidade de É...|Agronomia|Escola de Ciência...|                    602|         9003|\n",
      "+--------------------+----------+------+--------------------+---------+--------------------+-----------------------+-------------+\n",
      "only showing top 2 rows\n",
      "\n"
     ]
    }
   ],
   "source": [
    "colocados_n_1op.show(2)s"
   ]
  },
  {
   "cell_type": "code",
   "execution_count": 13,
   "metadata": {},
   "outputs": [
    {
     "data": {
      "text/plain": [
       "21922"
      ]
     },
     "execution_count": 13,
     "metadata": {},
     "output_type": "execute_result"
    }
   ],
   "source": [
    "colocados_n_1op.count()"
   ]
  },
  {
   "cell_type": "code",
   "execution_count": null,
   "metadata": {},
   "outputs": [
    {
     "name": "stdout",
     "output_type": "stream",
     "text": [
      "+----+----------------------+------------+------------------+----------+--------------------+-----+-----+-----+---+-------+--------------------+--------------------+--------------------+------------------+--------------+---------+\n",
      "| _c0|codigo_estabelecimento|codigo_curso|Nº Ordem (parcial)|        cc|                Nome| Nota|Opção|   PI|12º|10º/11º|     estabelecimento|              escola|               curso|regime_pos_laboral|regime_noturno|candidato|\n",
      "+----+----------------------+------------+------------------+----------+--------------------+-----+-----+-----+---+-------+--------------------+--------------------+--------------------+------------------+--------------+---------+\n",
      "| 660|                   602|        9011|               204|156(...)81|GUSTAVO MARTINS S...|119.7|    1|108.0|126|    126|Universidade de É...|Escola de Ciência...|            Biologia|                 0|             0|        1|\n",
      "|1075|                   602|        9143|               121|309(...)86|  MARTIM JARDIM DIAS|131.5|    1|110.0|143|    143|Universidade de É...|Escola de Ciência...|           Geografia|                 0|             0|        1|\n",
      "|1078|                   602|        9143|               124|157(...)20|ANDRÉ FILIPE QUER...|129.3|    1|113.0|138|    138|Universidade de É...|Escola de Ciência...|           Geografia|                 0|             0|        1|\n",
      "|1079|                   602|        9143|               125|158(...)25|MARIANA COSTA BRANCO|128.2|    1|110.0|138|    138|Universidade de É...|Escola de Ciência...|           Geografia|                 0|             0|        1|\n",
      "|1081|                   602|        9143|               127|152(...)12|GUILHERME DA SILV...|127.1|    1|116.0|133|    133|Universidade de É...|Escola de Ciência...|           Geografia|                 0|             0|        1|\n",
      "|1084|                   602|        9143|               130|307(...)91|FRANCISCO AMADOR ...|126.0|    1|126.0|126|    126|Universidade de É...|Escola de Ciência...|           Geografia|                 0|             0|        1|\n",
      "|1094|                   602|        9143|               140|306(...)96|FRANCISCO VAZ MON...|121.7|    1|121.0|122|    122|Universidade de É...|Escola de Ciência...|           Geografia|                 0|             0|        1|\n",
      "|1096|                   602|        9143|               142|318(...)31|MARIA LEONOR PALM...|121.3|    1|105.0|130|    130|Universidade de É...|Escola de Ciência...|           Geografia|                 0|             0|        1|\n",
      "|1424|                   602|        9119|               208|301(...)81|FRANCISCO PEIXE B...|136.1|    1|125.0|142|    142|Universidade de É...|Escola de Ciência...|Engenharia Inform...|                 0|             0|        1|\n",
      "|1425|                   602|        9119|               209|308(...)62|FRANCISCO MARIA M...|136.0|    1|123.0|143|    143|Universidade de É...|Escola de Ciência...|Engenharia Inform...|                 0|             0|        1|\n",
      "|1429|                   602|        9119|               213|312(...)92|JOSÉ ALEXANDRE BA...|135.4|    1|112.0|148|    148|Universidade de É...|Escola de Ciência...|Engenharia Inform...|                 0|             0|        1|\n",
      "|1435|                   602|        9119|               219|304(...)19|RAFAEL CRISTOVAO ...|133.9|    1|117.0|143|    143|Universidade de É...|Escola de Ciência...|Engenharia Inform...|                 0|             0|        1|\n",
      "|1439|                   602|        9119|               223|157(...)16|   RODRIGO MATA DIAS|133.6|    1|118.0|142|    142|Universidade de É...|Escola de Ciência...|Engenharia Inform...|                 0|             0|        1|\n",
      "|1440|                   602|        9119|               224|240(...)79|DANIEL ALEXANDRE ...|133.4|    1|121.0|140|    140|Universidade de É...|Escola de Ciência...|Engenharia Inform...|                 0|             0|        1|\n",
      "|1445|                   602|        9119|               229|153(...)13|MANUEL DOS REIS C...|132.8|    1|123.0|138|    138|Universidade de É...|Escola de Ciência...|Engenharia Inform...|                 0|             0|        1|\n",
      "|1450|                   602|        9119|               234|305(...)10|MIGUEL TENTE DE A...|131.9|    1|122.5|137|    137|Universidade de É...|Escola de Ciência...|Engenharia Inform...|                 0|             0|        1|\n",
      "|1452|                   602|        9119|               236|153(...)01|DIOGO MARIA LIBOR...|131.0|    1|105.0|145|    145|Universidade de É...|Escola de Ciência...|Engenharia Inform...|                 0|             0|        1|\n",
      "|1456|                   602|        9119|               240|151(...)67|ARTUR JORGE NUNES...|129.6|    1|138.0|125|    125|Universidade de É...|Escola de Ciência...|Engenharia Inform...|                 0|             0|        1|\n",
      "|1461|                   602|        9119|               245|309(...)32|DUARTE MIGUEL PIN...|128.3|    1|125.0|130|    130|Universidade de É...|Escola de Ciência...|Engenharia Inform...|                 0|             0|        1|\n",
      "|1462|                   602|        9119|               246|157(...)94|AFONSO PORTELA DE...|128.3|    1|106.5|140|    140|Universidade de É...|Escola de Ciência...|Engenharia Inform...|                 0|             0|        1|\n",
      "+----+----------------------+------------+------------------+----------+--------------------+-----+-----+-----+---+-------+--------------------+--------------------+--------------------+------------------+--------------+---------+\n",
      "only showing top 20 rows\n",
      "\n"
     ]
    }
   ],
   "source": [
    "nomes_cc_df = colocados_n_1op.select(\"Nome\", \"cc\")\n",
    "df_resultado = candidato.filter(\n",
    "    (candidato[\"Opção\"] == 1) & \n",
    "    (candidato[\"Nome\"].isin([row[\"Nome\"] for row in nomes_cc_df.collect()])) &\n",
    "    (candidato[\"cc\"].isin([row[\"cc\"] for row in nomes_cc_df.collect()]))\n",
    ")\n",
    "\n",
    "df_resultado.show()"
   ]
  },
  {
   "cell_type": "code",
   "execution_count": 10,
   "metadata": {},
   "outputs": [],
   "source": [
    "colunas_desejadas = [\"Nome\", \"cc\", \"Opção\", \"estabelecimento\", \"curso\", \"escola\", \"codigo_estabelecimento\", \"codigo_curso\"]\n",
    "candidatos_1op = df_resultado.select(*colunas_desejadas)"
   ]
  },
  {
   "cell_type": "code",
   "execution_count": 12,
   "metadata": {},
   "outputs": [
    {
     "name": "stdout",
     "output_type": "stream",
     "text": [
      "+--------------------+----------+-----+--------------------+---------+--------------------+----------------------+------------+\n",
      "|                Nome|        cc|Opção|     estabelecimento|    curso|              escola|codigo_estabelecimento|codigo_curso|\n",
      "+--------------------+----------+-----+--------------------+---------+--------------------+----------------------+------------+\n",
      "|GUSTAVO MARTINS S...|156(...)81|    1|Universidade de É...| Biologia|Escola de Ciência...|                   602|        9011|\n",
      "|  MARTIM JARDIM DIAS|309(...)86|    1|Universidade de É...|Geografia|Escola de Ciência...|                   602|        9143|\n",
      "+--------------------+----------+-----+--------------------+---------+--------------------+----------------------+------------+\n",
      "only showing top 2 rows\n",
      "\n"
     ]
    }
   ],
   "source": [
    "candidatos_1op.show(2)"
   ]
  },
  {
   "cell_type": "code",
   "execution_count": 1,
   "metadata": {},
   "outputs": [
    {
     "ename": "NameError",
     "evalue": "name 'candidatos_1op' is not defined",
     "output_type": "error",
     "traceback": [
      "\u001b[1;31m---------------------------------------------------------------------------\u001b[0m",
      "\u001b[1;31mNameError\u001b[0m                                 Traceback (most recent call last)",
      "Cell \u001b[1;32mIn[1], line 1\u001b[0m\n\u001b[1;32m----> 1\u001b[0m \u001b[43mcandidatos_1op\u001b[49m\u001b[38;5;241m.\u001b[39mcount()\n",
      "\u001b[1;31mNameError\u001b[0m: name 'candidatos_1op' is not defined"
     ]
    }
   ],
   "source": [
    "candidatos_1op.count()"
   ]
  },
  {
   "cell_type": "code",
   "execution_count": 11,
   "metadata": {},
   "outputs": [
    {
     "name": "stdout",
     "output_type": "stream",
     "text": [
      "+--------------------+----------+-----+--------------------+--------------------+--------------------+----------------------+------------+------+--------------------+--------------------+--------------------+-----------------------+-------------+\n",
      "|                Nome|        cc|Opção|     estabelecimento|               curso|              escola|codigo_estabelecimento|codigo_curso|AOpção|    Aestabelecimento|              Acurso|             Aescola|Acodigo_estabelecimento|Acodigo_curso|\n",
      "+--------------------+----------+-----+--------------------+--------------------+--------------------+----------------------+------------+------+--------------------+--------------------+--------------------+-----------------------+-------------+\n",
      "|GUSTAVO MARTINS S...|156(...)81|    1|Universidade de É...|            Biologia|Escola de Ciência...|                   602|        9011|     3|Instituto Politéc...|Tecnologia e Gest...|Escola Superior A...|                   3061|         L024|\n",
      "|  MARTIM JARDIM DIAS|309(...)86|    1|Universidade de É...|           Geografia|Escola de Ciência...|                   602|        9143|     2|Universidade de L...|           Geografia|Instituto de Geog...|                   1514|         9143|\n",
      "|ANDRÉ FILIPE QUER...|157(...)20|    1|Universidade de É...|           Geografia|Escola de Ciência...|                   602|        9143|     2|Universidade de É...|             Turismo|Escola de Ciência...|                    604|         9254|\n",
      "|MARIANA COSTA BRANCO|158(...)25|    1|Universidade de É...|           Geografia|Escola de Ciência...|                   602|        9143|     5|Instituto Politéc...|     Educação Social|Escola Superior d...|                   3101|         9084|\n",
      "|GUILHERME DA SILV...|152(...)12|    1|Universidade de É...|           Geografia|Escola de Ciência...|                   602|        9143|     5|Universidade de É...|             Turismo|Escola de Ciência...|                    604|         9254|\n",
      "|FRANCISCO AMADOR ...|307(...)91|    1|Universidade de É...|           Geografia|Escola de Ciência...|                   602|        9143|     3|Universidade de É...| Património Cultural|Escola de Ciência...|                    604|         9787|\n",
      "|FRANCISCO VAZ MON...|306(...)96|    1|Universidade de É...|           Geografia|Escola de Ciência...|                   602|        9143|     6|Instituto Politéc...|     Turismo e Lazer|Escola Superior d...|                   3095|         9255|\n",
      "|MARIA LEONOR PALM...|318(...)31|    1|Universidade de É...|           Geografia|Escola de Ciência...|                   602|        9143|     2|Instituto Politéc...|     Educação Social|Escola Superior d...|                   3121|         9084|\n",
      "|FRANCISCO PEIXE B...|301(...)81|    1|Universidade de É...|Engenharia Inform...|Escola de Ciência...|                   602|        9119|     2|Universidade de É...|Inteligência Arti...|Escola de Ciência...|                    602|         L227|\n",
      "|FRANCISCO MARIA M...|308(...)62|    1|Universidade de É...|Engenharia Inform...|Escola de Ciência...|                   602|        9119|     2|Universidade de É...|Inteligência Arti...|Escola de Ciência...|                    602|         L227|\n",
      "|JOSÉ ALEXANDRE BA...|312(...)92|    1|Universidade de É...|Engenharia Inform...|Escola de Ciência...|                   602|        9119|     2|Instituto Politéc...|Engenharia Inform...|Escola Superior d...|                   3023|         9119|\n",
      "|RAFAEL CRISTOVAO ...|304(...)19|    1|Universidade de É...|Engenharia Inform...|Escola de Ciência...|                   602|        9119|     6|Instituto Politéc...|Engenharia Inform...|Escola Superior d...|                   3065|         9119|\n",
      "|   RODRIGO MATA DIAS|157(...)16|    1|Universidade de É...|Engenharia Inform...|Escola de Ciência...|                   602|        9119|     2|Universidade do A...|Engenharia Inform...|Faculdade de Ciên...|                    203|         9119|\n",
      "|DANIEL ALEXANDRE ...|240(...)79|    1|Universidade de É...|Engenharia Inform...|Escola de Ciência...|                   602|        9119|     4|Universidade do A...|Engenharia de Sis...|Instituto Superio...|                   3083|         L269|\n",
      "|MANUEL DOS REIS C...|153(...)13|    1|Universidade de É...|Engenharia Inform...|Escola de Ciência...|                   602|        9119|     2|Universidade Nova...|Engenharia Eletro...|Faculdade de Ciên...|                    903|         L209|\n",
      "|MIGUEL TENTE DE A...|305(...)10|    1|Universidade de É...|Engenharia Inform...|Escola de Ciência...|                   602|        9119|     2|Instituto Politéc...|Engenharia Inform...|Escola Superior d...|                   3102|         9885|\n",
      "|DIOGO MARIA LIBOR...|153(...)01|    1|Universidade de É...|Engenharia Inform...|Escola de Ciência...|                   602|        9119|     2|Universidade de É...|Inteligência Arti...|Escola de Ciência...|                    602|         L227|\n",
      "|ARTUR JORGE NUNES...|151(...)67|    1|Universidade de É...|Engenharia Inform...|Escola de Ciência...|                   602|        9119|     2|Instituto Politéc...|Engenharia Inform...|Escola Superior d...|                   3023|         9119|\n",
      "|DUARTE MIGUEL PIN...|309(...)32|    1|Universidade de É...|Engenharia Inform...|Escola de Ciência...|                   602|        9119|     2|Universidade de É...|     Biologia Humana|Escola de Ciência...|                    602|         8262|\n",
      "|AFONSO PORTELA DE...|157(...)94|    1|Universidade de É...|Engenharia Inform...|Escola de Ciência...|                   602|        9119|     2|Universidade de É...|Engenharia de Ene...|Escola de Ciência...|                    602|         9910|\n",
      "+--------------------+----------+-----+--------------------+--------------------+--------------------+----------------------+------------+------+--------------------+--------------------+--------------------+-----------------------+-------------+\n",
      "only showing top 20 rows\n",
      "\n"
     ]
    }
   ],
   "source": [
    "df_join = candidatos_1op.join(\n",
    "    colocados_n_1op, \n",
    "    on=[\"Nome\", \"cc\"],  # As colunas de junção\n",
    "    how=\"inner\"  # Tipo de join: \"inner\" significa que só serão mantidas as linhas com correspondência em ambos os DataFrames\n",
    ")\n",
    "\n",
    "# Mostrando o resultado\n",
    "df_join.show()"
   ]
  },
  {
   "cell_type": "code",
   "execution_count": 12,
   "metadata": {},
   "outputs": [
    {
     "data": {
      "text/plain": [
       "21922"
      ]
     },
     "execution_count": 12,
     "metadata": {},
     "output_type": "execute_result"
    }
   ],
   "source": [
    "df_join.count()"
   ]
  },
  {
   "cell_type": "code",
   "execution_count": 16,
   "metadata": {},
   "outputs": [],
   "source": [
    "df_join_pd=df_join.toPandas()\n",
    "df_join_pd.to_csv('op_unix_cursoy.csv')"
   ]
  },
  {
   "cell_type": "markdown",
   "metadata": {},
   "source": [
    "## PERGUNTA 10"
   ]
  },
  {
   "cell_type": "code",
   "execution_count": 10,
   "metadata": {},
   "outputs": [
    {
     "name": "stdout",
     "output_type": "stream",
     "text": [
      "+----------------------+------------+------------------+----------+--------------------+-----+-----+-----+---+-------+--------------------+--------------------+---------+------------------+--------------+-----------+-------------+-----------+\n",
      "|codigo_estabelecimento|codigo_curso|Nº Ordem (parcial)|        cc|                Nome| Nota|Opção|   PI|12º|10º/11º|     estabelecimento|              escola|    curso|regime_pos_laboral|regime_noturno|candidato_x|  tipo_ensino|candidato_y|\n",
      "+----------------------+------------+------------------+----------+--------------------+-----+-----+-----+---+-------+--------------------+--------------------+---------+------------------+--------------+-----------+-------------+-----------+\n",
      "|                   602|        9003|                 2|156(...)35|FRANCISCO ISIDORO...|177.8|    1|181.0|176|    176|Universidade de É...|Escola de Ciência...|Agronomia|                 0|             0|          1|universitario|          0|\n",
      "|                   602|        9003|                11|307(...)84|JORGE DINIS DE JE...|154.9|    2|138.0|164|    164|Universidade de É...|Escola de Ciência...|Agronomia|                 0|             0|          1|universitario|          0|\n",
      "+----------------------+------------+------------------+----------+--------------------+-----+-----+-----+---+-------+--------------------+--------------------+---------+------------------+--------------+-----------+-------------+-----------+\n",
      "only showing top 2 rows\n",
      "\n"
     ]
    }
   ],
   "source": [
    "candidato_colocados.show(2)"
   ]
  },
  {
   "cell_type": "code",
   "execution_count": 27,
   "metadata": {},
   "outputs": [
    {
     "name": "stdout",
     "output_type": "stream",
     "text": [
      "+--------------------+-----------+--------------------+-----------+\n",
      "|               curso|     regime|     estabelecimento|Nota_minima|\n",
      "+--------------------+-----------+--------------------+-----------+\n",
      "|Administração Púb...|     Diurno|Instituto Politéc...|      109.0|\n",
      "|Administração Púb...|     Diurno|Instituto Politéc...|      127.9|\n",
      "|Administração Púb...|     Diurno|Universidade de A...|      120.2|\n",
      "|Administração Púb...|     Diurno|Universidade de L...|      140.0|\n",
      "|Administração Púb...|     Diurno|Universidade do M...|      160.2|\n",
      "|Administração Púb...|Pós-Laboral|Universidade de L...|      135.5|\n",
      "|Administração Púb...|Pós-Laboral|Universidade de L...|      128.5|\n",
      "|Administração Púb...|     Diurno|Universidade de C...|      143.0|\n",
      "|Administração de ...|     Diurno|Instituto Politéc...|      115.4|\n",
      "|           Agronomia|     Diurno|Instituto Politéc...|      124.4|\n",
      "|           Agronomia|     Diurno|Instituto Politéc...|      122.4|\n",
      "|           Agronomia|     Diurno|Instituto Politéc...|      118.2|\n",
      "|           Agronomia|     Diurno|Instituto Politéc...|      114.9|\n",
      "|           Agronomia|     Diurno|Instituto Politéc...|      110.0|\n",
      "|           Agronomia|     Diurno|Instituto Politéc...|      125.0|\n",
      "|           Agronomia|     Diurno|Universidade de É...|      101.0|\n",
      "|           Agronomia|     Diurno|Universidade do A...|      122.3|\n",
      "|           Agronomia|Pós-Laboral|Instituto Politéc...|      142.5|\n",
      "|Animação Sociocul...|     Diurno|Instituto Politéc...|      111.0|\n",
      "|Animação Sociocul...|     Diurno|Instituto Politéc...|      116.0|\n",
      "+--------------------+-----------+--------------------+-----------+\n",
      "only showing top 20 rows\n",
      "\n"
     ]
    }
   ],
   "source": [
    "from pyspark.sql import functions as F\n",
    "\n",
    "candidato_colocados_regime = candidato_colocados.withColumn(\n",
    "    \"regime\",\n",
    "    F.when((F.col(\"regime_pos_laboral\") == 0) & (F.col(\"regime_noturno\") == 0), \"Diurno\")\n",
    "     .when(F.col(\"regime_pos_laboral\") == 1, \"Pós-Laboral\")\n",
    "     .when(F.col(\"regime_noturno\") == 1, \"Noturno\")\n",
    "     .otherwise(\"Indefinido\")  \n",
    ")\n",
    "\n",
    "# Agrupar por curso e regime e calcular a média da coluna Nota\n",
    "result = candidato_colocados_regime.groupBy(\"curso\", \"regime\", \"estabelecimento\").agg(\n",
    "    F.min(\"Nota\").alias(\"Nota_minima\")\n",
    ")\n",
    "\n",
    "# Mostrar o resultado\n",
    "result.show()"
   ]
  },
  {
   "cell_type": "code",
   "execution_count": 29,
   "metadata": {},
   "outputs": [],
   "source": [
    "result_pd=result.toPandas()\n",
    "result_pd.to_csv('nota_corte_por_regimes.csv')"
   ]
  },
  {
   "cell_type": "markdown",
   "metadata": {},
   "source": [
    "## PERGUNTA 11"
   ]
  },
  {
   "cell_type": "code",
   "execution_count": 21,
   "metadata": {},
   "outputs": [
    {
     "name": "stdout",
     "output_type": "stream",
     "text": [
      "+---+----------------------+------------+------------------+----------+--------------------+-----+-----+-----+---+-------+--------------------+--------------------+---------+------------------+--------------+---------+\n",
      "|_c0|codigo_estabelecimento|codigo_curso|Nº Ordem (parcial)|        cc|                Nome| Nota|Opção|   PI|12º|10º/11º|     estabelecimento|              escola|    curso|regime_pos_laboral|regime_noturno|candidato|\n",
      "+---+----------------------+------------+------------------+----------+--------------------+-----+-----+-----+---+-------+--------------------+--------------------+---------+------------------+--------------+---------+\n",
      "|  0|                   602|        9003|                 1|151(...)15|MARTA DO VALE MAR...|188.7|    6|177.0|195|    195|Universidade de É...|Escola de Ciência...|Agronomia|                 0|             0|        1|\n",
      "|  1|                   602|        9003|                 2|156(...)35|FRANCISCO ISIDORO...|177.8|    1|181.0|176|    176|Universidade de É...|Escola de Ciência...|Agronomia|                 0|             0|        1|\n",
      "+---+----------------------+------------+------------------+----------+--------------------+-----+-----+-----+---+-------+--------------------+--------------------+---------+------------------+--------------+---------+\n",
      "only showing top 2 rows\n",
      "\n"
     ]
    }
   ],
   "source": [
    "candidato.show(2)"
   ]
  },
  {
   "cell_type": "code",
   "execution_count": 24,
   "metadata": {},
   "outputs": [
    {
     "name": "stdout",
     "output_type": "stream",
     "text": [
      "+-------------------------------------------+----------+\n",
      "|estabelecimento                            |frequencia|\n",
      "+-------------------------------------------+----------+\n",
      "|Universidade de Lisboa                     |9167      |\n",
      "|Universidade do Porto                      |8069      |\n",
      "|Universidade Nova de Lisboa                |4104      |\n",
      "|Instituto Politécnico do Porto             |3910      |\n",
      "|Universidade de Coimbra                    |3884      |\n",
      "|Universidade do Minho                      |3836      |\n",
      "|Instituto Politécnico de Lisboa            |2734      |\n",
      "|Universidade de Aveiro                     |2730      |\n",
      "|ISCTE                                      |2308      |\n",
      "|Instituto Politécnico de Coimbra           |1996      |\n",
      "|Instituto Politécnico de Leiria            |1745      |\n",
      "|Universidade do Algarve                    |1582      |\n",
      "|Universidade de Trás-os-Montes e Alto Douro|1390      |\n",
      "|Universidade da Beira Interior             |1143      |\n",
      "|Instituto Politécnico de Setúbal           |1140      |\n",
      "|Universidade de Évora                      |1087      |\n",
      "|Instituto Politécnico do Cávado e do Ave   |919       |\n",
      "|Universidade da Madeira                    |897       |\n",
      "|Instituto Politécnico de Viseu             |701       |\n",
      "|Instituto Politécnico de Viana do Castelo  |630       |\n",
      "+-------------------------------------------+----------+\n",
      "only showing top 20 rows\n",
      "\n"
     ]
    }
   ],
   "source": [
    "from pyspark.sql import functions as F\n",
    "\n",
    "opcao_1_df = candidato.filter(F.col(\"Opção\") == 1)\n",
    "\n",
    "frequencia_estabelecimentos = opcao_1_df.groupBy(\"estabelecimento\").agg(\n",
    "    F.count(\"*\").alias(\"frequencia\")\n",
    ")\n",
    "\n",
    "frequencia_estabelecimentos = frequencia_estabelecimentos.orderBy(F.desc(\"frequencia\"))\n",
    "\n",
    "# Mostrar o resultado\n",
    "frequencia_estabelecimentos.show(truncate=False)\n"
   ]
  },
  {
   "cell_type": "code",
   "execution_count": 31,
   "metadata": {},
   "outputs": [],
   "source": [
    "frequencia_estabelecimentos_pd=frequencia_estabelecimentos.toPandas()\n",
    "frequencia_estabelecimentos_pd.to_csv('freq_1op_estabelecimento.csv')"
   ]
  },
  {
   "cell_type": "markdown",
   "metadata": {},
   "source": [
    "## PERGUNTA 12"
   ]
  },
  {
   "cell_type": "code",
   "execution_count": 30,
   "metadata": {},
   "outputs": [
    {
     "name": "stdout",
     "output_type": "stream",
     "text": [
      "+------------------------------------------+----------+\n",
      "|curso                                     |frequencia|\n",
      "+------------------------------------------+----------+\n",
      "|Gestão                                    |3545      |\n",
      "|Engenharia Informática                    |2747      |\n",
      "|Psicologia                                |2706      |\n",
      "|Direito                                   |2610      |\n",
      "|Medicina                                  |2193      |\n",
      "|Enfermagem                                |1927      |\n",
      "|Educação Básica                           |1322      |\n",
      "|Engenharia Mecânica                       |1278      |\n",
      "|Arquitetura                               |1185      |\n",
      "|Economia                                  |1134      |\n",
      "|Fisioterapia                              |957       |\n",
      "|Ciências do Desporto                      |936       |\n",
      "|Ciências da Comunicação                   |895       |\n",
      "|Marketing                                 |843       |\n",
      "|Ciências Farmacêuticas                    |777       |\n",
      "|Engenharia e Gestão Industrial            |763       |\n",
      "|Biologia                                  |755       |\n",
      "|Engenharia Eletrotécnica e de Computadores|651       |\n",
      "|Gestão de Empresas                        |619       |\n",
      "|Bioquímica                                |586       |\n",
      "+------------------------------------------+----------+\n",
      "only showing top 20 rows\n",
      "\n"
     ]
    }
   ],
   "source": [
    "from pyspark.sql import functions as F\n",
    "\n",
    "opcao_1_df = candidato.filter(F.col(\"Opção\") == 1)\n",
    "\n",
    "frequencia_cursos = opcao_1_df.groupBy(\"curso\").agg(\n",
    "    F.count(\"*\").alias(\"frequencia\")\n",
    ")\n",
    "\n",
    "frequencia_cursos = frequencia_cursos.orderBy(F.desc(\"frequencia\"))\n",
    "\n",
    "# Mostrar o resultado\n",
    "frequencia_cursos.show(truncate=False)"
   ]
  },
  {
   "cell_type": "code",
   "execution_count": 32,
   "metadata": {},
   "outputs": [],
   "source": [
    "frequencia_cursos_pd=frequencia_cursos.toPandas()\n",
    "frequencia_cursos_pd.to_csv('freq_1op_cursos.csv')"
   ]
  },
  {
   "cell_type": "markdown",
   "metadata": {},
   "source": [
    "## PERGUNTA 14"
   ]
  },
  {
   "cell_type": "code",
   "execution_count": 38,
   "metadata": {},
   "outputs": [
    {
     "name": "stdout",
     "output_type": "stream",
     "text": [
      "+----------------------+------------+------------------+----------+--------------------+-----+-----+-----+---+-------+--------------------+--------------------+---------+------------------+--------------+-----------+-------------+-----------+\n",
      "|codigo_estabelecimento|codigo_curso|Nº Ordem (parcial)|        cc|                Nome| Nota|Opção|   PI|12º|10º/11º|     estabelecimento|              escola|    curso|regime_pos_laboral|regime_noturno|candidato_x|  tipo_ensino|candidato_y|\n",
      "+----------------------+------------+------------------+----------+--------------------+-----+-----+-----+---+-------+--------------------+--------------------+---------+------------------+--------------+-----------+-------------+-----------+\n",
      "|                   602|        9003|                 2|156(...)35|FRANCISCO ISIDORO...|177.8|    1|181.0|176|    176|Universidade de É...|Escola de Ciência...|Agronomia|                 0|             0|          1|universitario|          0|\n",
      "|                   602|        9003|                11|307(...)84|JORGE DINIS DE JE...|154.9|    2|138.0|164|    164|Universidade de É...|Escola de Ciência...|Agronomia|                 0|             0|          1|universitario|          0|\n",
      "+----------------------+------------+------------------+----------+--------------------+-----+-----+-----+---+-------+--------------------+--------------------+---------+------------------+--------------+-----------+-------------+-----------+\n",
      "only showing top 2 rows\n",
      "\n"
     ]
    }
   ],
   "source": [
    "candidato_colocados.show(2)"
   ]
  },
  {
   "cell_type": "code",
   "execution_count": null,
   "metadata": {},
   "outputs": [
    {
     "data": {
      "text/plain": [
       "[('Maior que 17', 73.24357229821672), ('Menor que 17', 40.17772565293879)]"
      ]
     },
     "execution_count": 5,
     "metadata": {},
     "output_type": "execute_result"
    }
   ],
   "source": [
    "from pyspark.sql import functions as F\n",
    "\n",
    "candidatos_nota = candidato.filter(F.col(\"Opção\") == 1)\n",
    "num_candidatos_maior_17 = candidatos_nota.filter(F.col(\"Nota\") >= 170).count()\n",
    "num_candidatos_menor_17 = candidatos_nota.filter(F.col(\"Nota\") < 170).count()\n",
    "\n",
    "colocados_nota = candidato_colocados.filter(F.col(\"Opção\") == 1)\n",
    "num_colocados_maior_17 = colocados_nota.filter(F.col(\"Nota\") >= 170).count()\n",
    "num_colocados_menor_17 = colocados_nota.filter(F.col(\"Nota\") < 170).count()\n",
    "\n",
    "data = [\n",
    "    (\"Maior que 17\", \n",
    "     float(num_colocados_maior_17 )/ num_candidatos_maior_17 * 100 if num_candidatos_maior_17 > 0 else 0),\n",
    "    (\"Menor que 17\", \n",
    "     float(num_colocados_menor_17 )/ num_candidatos_menor_17 * 100 if num_candidatos_menor_17 > 0 else 0)\n",
    "]\n",
    "\n",
    "data\n"
   ]
  },
  {
   "cell_type": "code",
   "execution_count": 38,
   "metadata": {},
   "outputs": [
    {
     "name": "stdout",
     "output_type": "stream",
     "text": [
      "+----------------------+------------+------------------+----------+--------------------+-----+-----+-----+---+-------+--------------------+------+--------+------------------+--------------+-----------+-------------+-----------+----------+\n",
      "|codigo_estabelecimento|codigo_curso|Nº Ordem (parcial)|        cc|                Nome| Nota|Opção|   PI|12º|10º/11º|     estabelecimento|escola|   curso|regime_pos_laboral|regime_noturno|candidato_x|  tipo_ensino|candidato_y|Nova Ordem|\n",
      "+----------------------+------------+------------------+----------+--------------------+-----+-----+-----+---+-------+--------------------+------+--------+------------------+--------------+-----------+-------------+-----------+----------+\n",
      "|                  1000|        9813|                 9|310(...)40|AFONSO MIGUEL PER...|197.5|    1|195.0|200|    200|Universidade do M...|     D|Medicina|                 0|             0|          1|universitario|          0|         1|\n",
      "|                  1000|        9813|                13|153(...)01|ANA SOFIA RODRIGU...|197.2|    1|196.3|198|    198|Universidade do M...|     D|Medicina|                 0|             0|          1|universitario|          0|         2|\n",
      "|                  1000|        9813|                17|309(...)54|FRANCISCO GOUVEIA...|197.0|    1|194.0|200|    200|Universidade do M...|     D|Medicina|                 0|             0|          1|universitario|          0|         3|\n",
      "|                  1000|        9813|                22|153(...)10|ANTÓNIO PEDRO FER...|196.7|    1|195.3|198|    198|Universidade do M...|     D|Medicina|                 0|             0|          1|universitario|          0|         4|\n",
      "|                  1000|        9813|                22|307(...)96|INES SOFIA PEIXOT...|196.7|    1|195.3|198|    198|Universidade do M...|     D|Medicina|                 0|             0|          1|universitario|          0|         5|\n",
      "|                  1000|        9813|                24|151(...)63|    AFONSO VAZ PIRES|196.5|    1|195.0|198|    198|Universidade do M...|     D|Medicina|                 0|             0|          1|universitario|          0|         6|\n",
      "|                  1000|        9813|                26|153(...)27|MARTA SANTIAGO AN...|196.3|    1|195.7|197|    197|Universidade do M...|     D|Medicina|                 0|             0|          1|universitario|          0|         7|\n",
      "|                  1000|        9813|                28|154(...)44|TIAGO MIGUEL LEMO...|196.3|    1|194.7|198|    198|Universidade do M...|     D|Medicina|                 0|             0|          1|universitario|          0|         8|\n",
      "|                  1000|        9813|                30|306(...)56|TATIANA GONÇALVES...|196.2|    1|192.3|200|    200|Universidade do M...|     D|Medicina|                 0|             0|          1|universitario|          0|         9|\n",
      "|                  1000|        9813|                31|301(...)31|AFONSO SALGUEIRO ...|196.0|    1|197.0|195|    195|Universidade do M...|     D|Medicina|                 0|             0|          1|universitario|          0|        10|\n",
      "|                  1000|        9813|                36|156(...)99|TOMÁS DE SÁ GIEST...|195.3|    1|190.7|200|    200|Universidade do M...|     D|Medicina|                 0|             0|          1|universitario|          0|        11|\n",
      "|                  1000|        9813|                40|308(...)54|MARIA MIGUEL AFON...|195.0|    1|192.0|198|    198|Universidade do M...|     D|Medicina|                 0|             0|          1|universitario|          0|        12|\n",
      "|                  1000|        9813|                41|154(...)10|FRANCISCA CANARIO...|195.0|    1|190.0|200|    200|Universidade do M...|     D|Medicina|                 0|             0|          1|universitario|          0|        13|\n",
      "|                  1000|        9813|                43|152(...)53|MARIANA CORGA DE ...|194.8|    1|193.7|196|    196|Universidade do M...|     D|Medicina|                 0|             0|          1|universitario|          0|        14|\n",
      "|                  1000|        9813|                47|306(...)25|GUILHERME GONÇALV...|194.8|    1|189.7|200|    200|Universidade do M...|     D|Medicina|                 0|             0|          1|universitario|          0|        15|\n",
      "|                  1000|        9813|                60|307(...)46|DANIELA RODRIGUES...|193.8|    1|191.7|196|    196|Universidade do M...|     D|Medicina|                 0|             0|          1|universitario|          0|        16|\n",
      "|                  1000|        9813|                64|157(...)94|SARA BEATRIZ ALVI...|193.8|    1|187.7|200|    200|Universidade do M...|     D|Medicina|                 0|             0|          1|universitario|          0|        17|\n",
      "|                  1000|        9813|                67|301(...)55|ANA LUISA ARAUJO ...|193.7|    1|192.3|195|    195|Universidade do M...|     D|Medicina|                 0|             0|          1|universitario|          0|        18|\n",
      "|                  1000|        9813|                82|300(...)74|JOÃO MARQUES OLIV...|193.0|    1|190.0|196|    196|Universidade do M...|     D|Medicina|                 0|             0|          1|universitario|          0|        19|\n",
      "|                  1000|        9813|                91|307(...)65|BEATRIZ FERREIRA ...|192.8|    1|189.7|196|    196|Universidade do M...|     D|Medicina|                 0|             0|          1|universitario|          0|        20|\n",
      "+----------------------+------------+------------------+----------+--------------------+-----+-----+-----+---+-------+--------------------+------+--------+------------------+--------------+-----------+-------------+-----------+----------+\n",
      "only showing top 20 rows\n",
      "\n"
     ]
    }
   ],
   "source": [
    "from pyspark.sql.functions import col, row_number\n",
    "from pyspark.sql.window import Window\n",
    "\n",
    "# Definir os filtros\n",
    "estabelecimento = \"Universidade do Minho\"\n",
    "curso = \"Medicina\"\n",
    "#nome_parcial = \"ANA CLARA\"  # Pode ser qualquer parte do nome\n",
    "\n",
    "# Filtragem usando .filter() e col() para acessar as colunas, utilizando 'contains' para nome parcial\n",
    "filtro_df = candidato_colocados.filter(\n",
    "    (col(\"estabelecimento\") == estabelecimento) &\n",
    "    (col(\"curso\") == curso) \n",
    "    #(col(\"Nome\").contains(nome_parcial))  # Filtra por nome parcialmente\n",
    ")\n",
    "\n",
    "# Conversão para garantir que a ordenação seja feita corretamente, caso a coluna seja string\n",
    "filtro_df = filtro_df.withColumn(\"Nº Ordem (parcial)\", col(\"Nº Ordem (parcial)\").cast(\"int\"))\n",
    "\n",
    "# Usar o Window para recalcular a ordem dos candidatos\n",
    "windowSpec = Window.partitionBy(\"estabelecimento\", \"curso\").orderBy(col(\"Nº Ordem (parcial)\"))\n",
    "\n",
    "# Adicionar uma coluna com a ordem recalculada\n",
    "filtro_df = filtro_df.withColumn(\"Nova Ordem\", row_number().over(windowSpec))\n",
    "\n",
    "# Exibir os resultados ordenados\n",
    "filtro_df.show()\n"
   ]
  },
  {
   "cell_type": "code",
   "execution_count": 39,
   "metadata": {},
   "outputs": [],
   "source": [
    "filtro_df=filtro_df.toPandas()\n",
    "filtro_df.to_csv('MARIANA_FOFOQUEIRA.csv')"
   ]
  },
  {
   "cell_type": "code",
   "execution_count": 5,
   "metadata": {},
   "outputs": [],
   "source": [
    "spark.stop()"
   ]
  }
 ],
 "metadata": {
  "kernelspec": {
   "display_name": "adpd",
   "language": "python",
   "name": "python3"
  },
  "language_info": {
   "codemirror_mode": {
    "name": "ipython",
    "version": 3
   },
   "file_extension": ".py",
   "mimetype": "text/x-python",
   "name": "python",
   "nbconvert_exporter": "python",
   "pygments_lexer": "ipython3",
   "version": "3.10.0"
  }
 },
 "nbformat": 4,
 "nbformat_minor": 2
}
